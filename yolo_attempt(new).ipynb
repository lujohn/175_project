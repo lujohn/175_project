{
 "cells": [
  {
   "cell_type": "code",
   "execution_count": 33,
   "metadata": {},
   "outputs": [
    {
     "name": "stdout",
     "output_type": "stream",
     "text": [
      "The autoreload extension is already loaded. To reload it, use:\n",
      "  %reload_ext autoreload\n"
     ]
    }
   ],
   "source": [
    "import imageio\n",
    "import numpy as np\n",
    "from new_functions import *\n",
    "from PIL import Image\n",
    "\n",
    "from matplotlib import pyplot as plt\n",
    "\n",
    "%load_ext autoreload\n",
    "%autoreload 2\n",
    "% matplotlib inline"
   ]
  },
  {
   "cell_type": "code",
   "execution_count": 94,
   "metadata": {
    "scrolled": true
   },
   "outputs": [],
   "source": [
    "# # Read Some Images\n",
    "# X, Y, Joints, Hand_Info = read_img_data2(50)"
   ]
  },
  {
   "cell_type": "code",
   "execution_count": 95,
   "metadata": {},
   "outputs": [],
   "source": [
    "# # Display an image\n",
    "# plt.imshow(X[0].astype(np.uint8))"
   ]
  },
  {
   "cell_type": "code",
   "execution_count": 96,
   "metadata": {},
   "outputs": [],
   "source": [
    "# # Print some Y's and J's. J = 0 means left hand, J = 1 means right hand.\n",
    "# # Y = 1 means hand is present in the image.\n",
    "# print(Y[:10])\n",
    "# print(Hand_Info[:10])"
   ]
  },
  {
   "cell_type": "code",
   "execution_count": 97,
   "metadata": {},
   "outputs": [],
   "source": [
    "# X[4].shape"
   ]
  },
  {
   "cell_type": "code",
   "execution_count": 98,
   "metadata": {},
   "outputs": [],
   "source": [
    "# labels = gen_labels2(Y, Joints)"
   ]
  },
  {
   "cell_type": "code",
   "execution_count": 99,
   "metadata": {},
   "outputs": [],
   "source": [
    "# np.argwhere(labels[4] == 1)\n"
   ]
  },
  {
   "cell_type": "code",
   "execution_count": 100,
   "metadata": {},
   "outputs": [],
   "source": [
    "# _, cx, cy, h, w = labels[4][1][1]\n"
   ]
  },
  {
   "cell_type": "code",
   "execution_count": 123,
   "metadata": {},
   "outputs": [
    {
     "name": "stdout",
     "output_type": "stream",
     "text": [
      "0.5594229166666665 0.4293481481481481 0.05566249999999995 0.12019259259259257\n"
     ]
    }
   ],
   "source": [
    "# convert cx, cy back to consider the full image  #Need grid position! 1 -> x_grid = 1, same for y\n",
    "cx = (1+cx)/3\n",
    "cy = (1+cy)/3\n",
    "print(cx, cy, h , w)"
   ]
  },
  {
   "cell_type": "code",
   "execution_count": 122,
   "metadata": {},
   "outputs": [
    {
     "name": "stdout",
     "output_type": "stream",
     "text": [
      "0.6782687499999998 0.2880444444444443 0.05566249999999995 0.12019259259259257\n"
     ]
    }
   ],
   "source": [
    "# _, cx, cy, h, w = labels[1][1][1]\n",
    "# print(cx, cy, h , w)"
   ]
  },
  {
   "cell_type": "code",
   "execution_count": 101,
   "metadata": {},
   "outputs": [],
   "source": [
    "# #Joints[4]\n",
    "# import Tkinter"
   ]
  },
  {
   "cell_type": "markdown",
   "metadata": {},
   "source": [
    "# PyTorch    (YOLO?)"
   ]
  },
  {
   "cell_type": "code",
   "execution_count": 34,
   "metadata": {},
   "outputs": [],
   "source": [
    "import torch\n",
    "import torch.nn as nn\n",
    "import torch.optim as optim\n",
    "from torch.autograd import Variable\n",
    "from torch.utils.data import DataLoader\n",
    "from torch.utils.data import sampler\n",
    "\n",
    "import torchvision.datasets as dset\n",
    "import torchvision.transforms as T\n",
    "\n",
    "import numpy as np\n",
    "\n",
    "import timeit"
   ]
  },
  {
   "cell_type": "code",
   "execution_count": 35,
   "metadata": {},
   "outputs": [],
   "source": [
    "dtype = torch.FloatTensor # the CPU datatype\n",
    "\n",
    "# Constant to control how frequently we print train loss\n",
    "print_every = 100\n",
    "\n",
    "# This is a little utility that we'll use to reset the model\n",
    "# if we want to re-initialize all our parameters\n",
    "def reset(m):\n",
    "    if hasattr(m, 'reset_parameters'):\n",
    "        m.reset_parameters()"
   ]
  },
  {
   "cell_type": "markdown",
   "metadata": {},
   "source": [
    "# make 50 -> 1000 or more "
   ]
  },
  {
   "cell_type": "code",
   "execution_count": 36,
   "metadata": {},
   "outputs": [],
   "source": [
    "X, Y, Joints, Hand_Info = read_img_data2(50)"
   ]
  },
  {
   "cell_type": "code",
   "execution_count": null,
   "metadata": {},
   "outputs": [],
   "source": []
  },
  {
   "cell_type": "code",
   "execution_count": 37,
   "metadata": {},
   "outputs": [
    {
     "name": "stdout",
     "output_type": "stream",
     "text": [
      "Y_rolled shape:  (50, 5, 3, 3)\n",
      "X_rolled shape:  (50, 3, 100, 100)\n"
     ]
    }
   ],
   "source": [
    "Y_train = gen_labels2(Y, Joints, grid_size=3)\n",
    "Y_rolled = np.rollaxis(Y_train, 3, 1)\n",
    "print('Y_rolled shape: ', Y_rolled.shape)\n",
    "X_rolled = to_channels_first2(X)\n",
    "# Y_rolled = to_channels_first(Y_train)\n",
    "print('X_rolled shape: ', X_rolled.shape)\n",
    "# print('Y_rolled shape: ', Y_rolled.shape)"
   ]
  },
  {
   "cell_type": "code",
   "execution_count": 38,
   "metadata": {},
   "outputs": [
    {
     "name": "stdout",
     "output_type": "stream",
     "text": [
      "torch.Size([50, 3, 100, 100])\n",
      "torch.Size([50, 5, 3, 3])\n"
     ]
    }
   ],
   "source": [
    "Y_train = torch.from_numpy(Y_rolled)\n",
    "Y_train = Y_train.type(dtype)\n",
    "X_train = torch.from_numpy(X_rolled).type(dtype)\n",
    "print(X_train.size())\n",
    "print(Y_train.size())"
   ]
  },
  {
   "cell_type": "code",
   "execution_count": 39,
   "metadata": {},
   "outputs": [],
   "source": [
    "#Y = Y.reshape(Y.shape[0], 1,1,1)"
   ]
  },
  {
   "cell_type": "code",
   "execution_count": 40,
   "metadata": {},
   "outputs": [
    {
     "data": {
      "text/plain": [
       "torch.Size([50, 5, 3, 3])"
      ]
     },
     "execution_count": 40,
     "metadata": {},
     "output_type": "execute_result"
    }
   ],
   "source": [
    "Y_train.shape"
   ]
  },
  {
   "cell_type": "code",
   "execution_count": 41,
   "metadata": {},
   "outputs": [],
   "source": [
    "# Y = torch.from_numpy(Y)\n",
    "# Y=Y.type(dtype)\n",
    "# Y.type"
   ]
  },
  {
   "cell_type": "code",
   "execution_count": 73,
   "metadata": {},
   "outputs": [],
   "source": [
    "# print(Y_train[:,:])\n",
    "# plt.imshow(X[10])"
   ]
  },
  {
   "cell_type": "code",
   "execution_count": 122,
   "metadata": {},
   "outputs": [],
   "source": [
    "# def train(X, Y, model, loss_fn, optimizer, batch_size=10, num_epochs=1):\n",
    "#     for epoch in range(num_epochs):\n",
    "#         print('Starting epoch %d / %d' % (epoch + 1, num_epochs))\n",
    "# #         model.train()\n",
    "#         # X_batch, Y_batch = ...\n",
    "#         x_var = Variable(X.type(dtype))\n",
    "#         y_var = Variable(Y.type(dtype))\n",
    "\n",
    "#         scores = model(x_var)\n",
    "\n",
    "#         loss = loss_fn(scores, y_var)\n",
    "# #         if (t + 1) % print_every == 0:\n",
    "# #             print('t = %d, loss = %.4f' % (t + 1, loss.data[0]))\n",
    "\n",
    "#         optimizer.zero_grad()\n",
    "#         loss.backward()\n",
    "#         optimizer.step()\n",
    "#         print('loss: ', loss)"
   ]
  },
  {
   "cell_type": "code",
   "execution_count": 42,
   "metadata": {},
   "outputs": [],
   "source": [
    "fixed_model_base = nn.Sequential(\n",
    "        nn.Conv2d(3, 64, kernel_size=5, stride=1),\n",
    "        nn.ReLU(inplace=True),\n",
    "        nn.MaxPool2d(kernel_size=2, stride=2),\n",
    "        \n",
    "        nn.Conv2d(64, 64, kernel_size=5, stride=1),\n",
    "        nn.ReLU(inplace=True),\n",
    "        nn.MaxPool2d(kernel_size=2, stride=2),\n",
    "    \n",
    "        nn.Conv2d(64, 64, kernel_size=3, stride=1),\n",
    "        nn.ReLU(inplace=True),\n",
    "        nn.MaxPool2d(kernel_size=2, stride=2),\n",
    "        nn.Dropout2d(),\n",
    "        nn.Conv2d(64, 32, kernel_size=3, stride=1),\n",
    "        #nn.BatchNorm2d(32),\n",
    "        nn.ReLU(inplace=True),\n",
    "        nn.MaxPool2d(kernel_size=2, stride=2),\n",
    "        nn.Dropout2d(),\n",
    "        nn.Conv2d(32, 5, kernel_size=2, stride=1),\n",
    "        nn.ReLU(inplace=True),\n",
    "        nn.Dropout2d(),\n",
    "#         nn.Conv2d(16, 7, kernel_size=3, stride=1),\n",
    "#         nn.ReLU(inplace=True),\n",
    "        #nn.LogSigmoid(),\n",
    "        #nn.Linear(1,1)\n",
    "        nn.Softmax()\n",
    "    )\n",
    "\n",
    "fixed_model = fixed_model_base.type(dtype)\n",
    "\n"
   ]
  },
  {
   "cell_type": "code",
   "execution_count": 43,
   "metadata": {},
   "outputs": [],
   "source": [
    "import math"
   ]
  },
  {
   "cell_type": "code",
   "execution_count": 76,
   "metadata": {},
   "outputs": [
    {
     "data": {
      "text/plain": [
       "5.0"
      ]
     },
     "execution_count": 76,
     "metadata": {},
     "output_type": "execute_result"
    }
   ],
   "source": [
    "math.sqrt(25)"
   ]
  },
  {
   "cell_type": "markdown",
   "metadata": {},
   "source": [
    "# Can Vary the +1 under the if statement upto +5"
   ]
  },
  {
   "cell_type": "code",
   "execution_count": 44,
   "metadata": {},
   "outputs": [],
   "source": [
    "def yolo_loss(Output, Y_train):\n",
    "    sum1 = 0\n",
    "    count = 0\n",
    "    for out , label in (zip(Output, Y_train)):\n",
    "        for i in range(3):\n",
    "            for j in range(3):\n",
    "                c_hat = iou([Y_train[count][1][i][j] - (Y_train[count][3][i][j])/2, Y_train[count][2][i][j] + (Y_train[count][4][i][j]/2),Y_train[count][1][i][j] + (Y_train[count][3][i][j])/2, Y_train[count][2][i][j] - (Y_train[count][4][i][j]/2)],\n",
    "                              [Output[count][1][i][j] - (Output[count][3][i][j])/2, Output[count][2][i][j] + (Output[count][4][i][j]/2),Output[count][1][i][j] + (Output[count][3][i][j])/2, Output[count][2][i][j] - (Output[count][4][i][j]/2)] )\n",
    "                #print(c_hat)\n",
    "                if Y_train[count][0][i][j] == 1:\n",
    "                    sum1 += 1 * ((Y_train[count][1][i][j]- Output[count][1][i][j])**2 + (Y_train[count][2][i][j]- Output[count][2][i][j])**2)\n",
    "                    sum1 += 1 * ((math.sqrt(Y_train[count][3][i][j])- math.sqrt(Output[count][3][i][j]))**2 + (math.sqrt(Y_train[count][4][i][j])- math.sqrt(Output[count][4][i][j]))**2)\n",
    "                    #sum1 += 5 * ((math.sqrt(Y_train[count][3][i][j])- math.sqrt(Output[count][3][i][j]))**2 + (math.sqrt(Y_train[count][4][i][j])- math.sqrt(Output[count][4][i][j]))**2)\n",
    "                    #sum1 += (Y_train[count][0][i][j] -c_hat)**2\n",
    "                    sum1 += (Y_train[count][0][i][j] - Output[count][0][i][j])**2\n",
    "                    \n",
    "                else:\n",
    "                    sum1 += 0.5*(Y_train[count][0][i][j] -c_hat)**2\n",
    "        count +=1\n",
    "    return sum1\n",
    "\n",
    "        \n",
    "    "
   ]
  },
  {
   "cell_type": "markdown",
   "metadata": {},
   "source": [
    "# Chage learning rate"
   ]
  },
  {
   "cell_type": "code",
   "execution_count": 74,
   "metadata": {},
   "outputs": [
    {
     "name": "stderr",
     "output_type": "stream",
     "text": [
      "C:\\Users\\zarin\\Anaconda3\\lib\\site-packages\\torch\\nn\\modules\\container.py:91: UserWarning: Implicit dimension choice for softmax has been deprecated. Change the call to include dim=X as an argument.\n",
      "  input = module(input)\n"
     ]
    },
    {
     "name": "stdout",
     "output_type": "stream",
     "text": [
      "loss : 15.197607040405273\n",
      "loss : 17.008121490478516\n",
      "loss : 19.963184356689453\n",
      "loss : 17.586444854736328\n",
      "loss : 18.465036392211914\n",
      "loss : 16.77046012878418\n",
      "loss : 17.623497009277344\n",
      "loss : 17.095022201538086\n",
      "loss : 17.377470016479492\n",
      "loss : 20.788541793823242\n",
      "loss : 17.918703079223633\n",
      "loss : 17.715299606323242\n",
      "loss : 20.710670471191406\n",
      "loss : 16.314252853393555\n",
      "loss : 17.152774810791016\n",
      "loss : 17.837265014648438\n",
      "loss : 16.556201934814453\n",
      "loss : 16.678577423095703\n",
      "loss : 17.841007232666016\n",
      "loss : 17.083667755126953\n",
      "loss : 17.367700576782227\n",
      "loss : 17.259492874145508\n",
      "loss : 18.386844635009766\n",
      "loss : 15.074274063110352\n",
      "loss : 16.042442321777344\n",
      "loss : 18.815214157104492\n",
      "loss : 16.469247817993164\n",
      "loss : 13.119872093200684\n",
      "loss : 16.561710357666016\n",
      "loss : 16.25469398498535\n",
      "loss : 16.849225997924805\n",
      "loss : 17.826557159423828\n",
      "loss : 14.99821949005127\n",
      "loss : 17.367372512817383\n",
      "loss : 16.327096939086914\n",
      "loss : 14.907376289367676\n",
      "loss : 15.877387046813965\n",
      "loss : 16.797657012939453\n",
      "loss : 15.59896183013916\n",
      "loss : 16.475078582763672\n",
      "loss : 15.249109268188477\n",
      "loss : 16.72829818725586\n",
      "loss : 15.79909896850586\n",
      "loss : 15.776453971862793\n",
      "loss : 16.747150421142578\n",
      "loss : 14.725622177124023\n",
      "loss : 15.912764549255371\n",
      "loss : 17.274362564086914\n",
      "loss : 17.649991989135742\n",
      "loss : 16.991661071777344\n"
     ]
    }
   ],
   "source": [
    "#loss_fn = yolo_loss().type(dtype)\n",
    "loss_fn = nn.MSELoss().type(dtype)\n",
    "#loss_fn = nn.L1Loss().type(dtype)\n",
    "optimizer = optim.RMSprop(fixed_model.parameters(), lr= 1e-4)\n",
    "#loss_fn = nn.CrossEntropyLoss().type(dtype)\n",
    "## Now we're going to feed a random batch into the model you defined and make sure the output is the right size\n",
    "def init_weights(m):\n",
    "    if type(m) == nn.Linear:\n",
    "        torch.nn.init.xavier_uniform(m.weight)\n",
    "        m.bias.data.fill_(0.01)\n",
    "\n",
    "fixed_model.apply(init_weights)\n",
    "# in your training loop:\n",
    "it = 50\n",
    "optimizer.zero_grad()   # zero the gradient buffers\n",
    "fixed_model.train()\n",
    "c = 0.0002\n",
    "#Y_train_ = Y_train.type(torch.LongTensor)\n",
    "for iter in range(it):\n",
    "    output = fixed_model(X_train)\n",
    "    loss = yolo_loss(output, Y_train)\n",
    "    #loss = loss_fn(output, Y_train)\n",
    "    optimizer.zero_grad()\n",
    "    loss.backward()\n",
    "#     for param_group in optimizer.param_groups:\n",
    "#         param_group['lr'] -=c\n",
    "    optimizer.step()    # Does the update\n",
    "    \n",
    "    print('loss :' , loss.item())"
   ]
  },
  {
   "cell_type": "code",
   "execution_count": 75,
   "metadata": {},
   "outputs": [
    {
     "name": "stderr",
     "output_type": "stream",
     "text": [
      "C:\\Users\\zarin\\Anaconda3\\lib\\site-packages\\torch\\nn\\modules\\container.py:91: UserWarning: Implicit dimension choice for softmax has been deprecated. Change the call to include dim=X as an argument.\n",
      "  input = module(input)\n"
     ]
    }
   ],
   "source": [
    "preds = fixed_model(X_train)"
   ]
  },
  {
   "cell_type": "code",
   "execution_count": 79,
   "metadata": {},
   "outputs": [],
   "source": [
    "\n",
    "preds2 = preds"
   ]
  },
  {
   "cell_type": "code",
   "execution_count": 73,
   "metadata": {},
   "outputs": [
    {
     "data": {
      "text/plain": [
       "tensor([[[[ 0.0000,  0.0000,  0.0000],\n",
       "          [ 0.0000,  1.0000,  0.0000],\n",
       "          [ 0.0000,  0.0000,  0.0000]],\n",
       "\n",
       "         [[ 0.0000,  0.0000,  0.0000],\n",
       "          [ 0.0000,  0.6867,  0.0000],\n",
       "          [ 0.0000,  0.0000,  0.0000]],\n",
       "\n",
       "         [[ 0.0000,  0.0000,  0.0000],\n",
       "          [ 0.0000,  0.2806,  0.0000],\n",
       "          [ 0.0000,  0.0000,  0.0000]],\n",
       "\n",
       "         [[ 0.0000,  0.0000,  0.0000],\n",
       "          [ 0.0000,  0.0651,  0.0000],\n",
       "          [ 0.0000,  0.0000,  0.0000]],\n",
       "\n",
       "         [[ 0.0000,  0.0000,  0.0000],\n",
       "          [ 0.0000,  0.1222,  0.0000],\n",
       "          [ 0.0000,  0.0000,  0.0000]]],\n",
       "\n",
       "\n",
       "        [[[ 0.0000,  0.0000,  0.0000],\n",
       "          [ 0.0000,  1.0000,  0.0000],\n",
       "          [ 0.0000,  0.0000,  0.0000]],\n",
       "\n",
       "         [[ 0.0000,  0.0000,  0.0000],\n",
       "          [ 0.0000,  0.6783,  0.0000],\n",
       "          [ 0.0000,  0.0000,  0.0000]],\n",
       "\n",
       "         [[ 0.0000,  0.0000,  0.0000],\n",
       "          [ 0.0000,  0.2880,  0.0000],\n",
       "          [ 0.0000,  0.0000,  0.0000]],\n",
       "\n",
       "         [[ 0.0000,  0.0000,  0.0000],\n",
       "          [ 0.0000,  0.0557,  0.0000],\n",
       "          [ 0.0000,  0.0000,  0.0000]],\n",
       "\n",
       "         [[ 0.0000,  0.0000,  0.0000],\n",
       "          [ 0.0000,  0.1202,  0.0000],\n",
       "          [ 0.0000,  0.0000,  0.0000]]],\n",
       "\n",
       "\n",
       "        [[[ 0.0000,  0.0000,  0.0000],\n",
       "          [ 0.0000,  1.0000,  0.0000],\n",
       "          [ 0.0000,  0.0000,  0.0000]],\n",
       "\n",
       "         [[ 0.0000,  0.0000,  0.0000],\n",
       "          [ 0.0000,  0.7467,  0.0000],\n",
       "          [ 0.0000,  0.0000,  0.0000]],\n",
       "\n",
       "         [[ 0.0000,  0.0000,  0.0000],\n",
       "          [ 0.0000,  0.2936,  0.0000],\n",
       "          [ 0.0000,  0.0000,  0.0000]],\n",
       "\n",
       "         [[ 0.0000,  0.0000,  0.0000],\n",
       "          [ 0.0000,  0.0150,  0.0000],\n",
       "          [ 0.0000,  0.0000,  0.0000]],\n",
       "\n",
       "         [[ 0.0000,  0.0000,  0.0000],\n",
       "          [ 0.0000,  0.1248,  0.0000],\n",
       "          [ 0.0000,  0.0000,  0.0000]]],\n",
       "\n",
       "\n",
       "        [[[ 0.0000,  0.0000,  0.0000],\n",
       "          [ 0.0000,  1.0000,  0.0000],\n",
       "          [ 0.0000,  0.0000,  0.0000]],\n",
       "\n",
       "         [[ 0.0000,  0.0000,  0.0000],\n",
       "          [ 0.0000,  0.6799,  0.0000],\n",
       "          [ 0.0000,  0.0000,  0.0000]],\n",
       "\n",
       "         [[ 0.0000,  0.0000,  0.0000],\n",
       "          [ 0.0000,  0.3268,  0.0000],\n",
       "          [ 0.0000,  0.0000,  0.0000]],\n",
       "\n",
       "         [[ 0.0000,  0.0000,  0.0000],\n",
       "          [ 0.0000,  0.0484,  0.0000],\n",
       "          [ 0.0000,  0.0000,  0.0000]],\n",
       "\n",
       "         [[ 0.0000,  0.0000,  0.0000],\n",
       "          [ 0.0000,  0.0942,  0.0000],\n",
       "          [ 0.0000,  0.0000,  0.0000]]],\n",
       "\n",
       "\n",
       "        [[[ 0.0000,  0.0000,  0.0000],\n",
       "          [ 0.0000,  1.0000,  0.0000],\n",
       "          [ 0.0000,  0.0000,  0.0000]],\n",
       "\n",
       "         [[ 0.0000,  0.0000,  0.0000],\n",
       "          [ 0.0000,  0.6950,  0.0000],\n",
       "          [ 0.0000,  0.0000,  0.0000]],\n",
       "\n",
       "         [[ 0.0000,  0.0000,  0.0000],\n",
       "          [ 0.0000,  0.3590,  0.0000],\n",
       "          [ 0.0000,  0.0000,  0.0000]],\n",
       "\n",
       "         [[ 0.0000,  0.0000,  0.0000],\n",
       "          [ 0.0000,  0.0352,  0.0000],\n",
       "          [ 0.0000,  0.0000,  0.0000]],\n",
       "\n",
       "         [[ 0.0000,  0.0000,  0.0000],\n",
       "          [ 0.0000,  0.0727,  0.0000],\n",
       "          [ 0.0000,  0.0000,  0.0000]]],\n",
       "\n",
       "\n",
       "        [[[ 0.0000,  0.0000,  0.0000],\n",
       "          [ 0.0000,  1.0000,  0.0000],\n",
       "          [ 0.0000,  0.0000,  0.0000]],\n",
       "\n",
       "         [[ 0.0000,  0.0000,  0.0000],\n",
       "          [ 0.0000,  0.6881,  0.0000],\n",
       "          [ 0.0000,  0.0000,  0.0000]],\n",
       "\n",
       "         [[ 0.0000,  0.0000,  0.0000],\n",
       "          [ 0.0000,  0.3839,  0.0000],\n",
       "          [ 0.0000,  0.0000,  0.0000]],\n",
       "\n",
       "         [[ 0.0000,  0.0000,  0.0000],\n",
       "          [ 0.0000,  0.0299,  0.0000],\n",
       "          [ 0.0000,  0.0000,  0.0000]],\n",
       "\n",
       "         [[ 0.0000,  0.0000,  0.0000],\n",
       "          [ 0.0000,  0.0636,  0.0000],\n",
       "          [ 0.0000,  0.0000,  0.0000]]],\n",
       "\n",
       "\n",
       "        [[[ 0.0000,  0.0000,  0.0000],\n",
       "          [ 0.0000,  1.0000,  0.0000],\n",
       "          [ 0.0000,  0.0000,  0.0000]],\n",
       "\n",
       "         [[ 0.0000,  0.0000,  0.0000],\n",
       "          [ 0.0000,  0.6873,  0.0000],\n",
       "          [ 0.0000,  0.0000,  0.0000]],\n",
       "\n",
       "         [[ 0.0000,  0.0000,  0.0000],\n",
       "          [ 0.0000,  0.5245,  0.0000],\n",
       "          [ 0.0000,  0.0000,  0.0000]],\n",
       "\n",
       "         [[ 0.0000,  0.0000,  0.0000],\n",
       "          [ 0.0000,  0.0354,  0.0000],\n",
       "          [ 0.0000,  0.0000,  0.0000]],\n",
       "\n",
       "         [[ 0.0000,  0.0000,  0.0000],\n",
       "          [ 0.0000,  0.0591,  0.0000],\n",
       "          [ 0.0000,  0.0000,  0.0000]]],\n",
       "\n",
       "\n",
       "        [[[ 0.0000,  0.0000,  0.0000],\n",
       "          [ 0.0000,  0.0000,  0.0000],\n",
       "          [ 0.0000,  1.0000,  0.0000]],\n",
       "\n",
       "         [[ 0.0000,  0.0000,  0.0000],\n",
       "          [ 0.0000,  0.0000,  0.0000],\n",
       "          [ 0.0000,  0.6872,  0.0000]],\n",
       "\n",
       "         [[ 0.0000,  0.0000,  0.0000],\n",
       "          [ 0.0000,  0.0000,  0.0000],\n",
       "          [ 0.0000,  0.1091,  0.0000]],\n",
       "\n",
       "         [[ 0.0000,  0.0000,  0.0000],\n",
       "          [ 0.0000,  0.0000,  0.0000],\n",
       "          [ 0.0000,  0.0426,  0.0000]],\n",
       "\n",
       "         [[ 0.0000,  0.0000,  0.0000],\n",
       "          [ 0.0000,  0.0000,  0.0000],\n",
       "          [ 0.0000,  0.0824,  0.0000]]],\n",
       "\n",
       "\n",
       "        [[[ 0.0000,  0.0000,  0.0000],\n",
       "          [ 0.0000,  1.0000,  0.0000],\n",
       "          [ 0.0000,  0.0000,  0.0000]],\n",
       "\n",
       "         [[ 0.0000,  0.0000,  0.0000],\n",
       "          [ 0.0000,  0.4130,  0.0000],\n",
       "          [ 0.0000,  0.0000,  0.0000]],\n",
       "\n",
       "         [[ 0.0000,  0.0000,  0.0000],\n",
       "          [ 0.0000,  0.3492,  0.0000],\n",
       "          [ 0.0000,  0.0000,  0.0000]],\n",
       "\n",
       "         [[ 0.0000,  0.0000,  0.0000],\n",
       "          [ 0.0000,  0.0339,  0.0000],\n",
       "          [ 0.0000,  0.0000,  0.0000]],\n",
       "\n",
       "         [[ 0.0000,  0.0000,  0.0000],\n",
       "          [ 0.0000,  0.0652,  0.0000],\n",
       "          [ 0.0000,  0.0000,  0.0000]]],\n",
       "\n",
       "\n",
       "        [[[ 0.0000,  0.0000,  0.0000],\n",
       "          [ 0.0000,  1.0000,  0.0000],\n",
       "          [ 0.0000,  0.0000,  0.0000]],\n",
       "\n",
       "         [[ 0.0000,  0.0000,  0.0000],\n",
       "          [ 0.0000,  0.4205,  0.0000],\n",
       "          [ 0.0000,  0.0000,  0.0000]],\n",
       "\n",
       "         [[ 0.0000,  0.0000,  0.0000],\n",
       "          [ 0.0000,  0.2406,  0.0000],\n",
       "          [ 0.0000,  0.0000,  0.0000]],\n",
       "\n",
       "         [[ 0.0000,  0.0000,  0.0000],\n",
       "          [ 0.0000,  0.0331,  0.0000],\n",
       "          [ 0.0000,  0.0000,  0.0000]],\n",
       "\n",
       "         [[ 0.0000,  0.0000,  0.0000],\n",
       "          [ 0.0000,  0.0594,  0.0000],\n",
       "          [ 0.0000,  0.0000,  0.0000]]]])"
      ]
     },
     "execution_count": 73,
     "metadata": {},
     "output_type": "execute_result"
    }
   ],
   "source": [
    "Y_train[:10]"
   ]
  },
  {
   "cell_type": "code",
   "execution_count": 89,
   "metadata": {},
   "outputs": [],
   "source": []
  },
  {
   "cell_type": "markdown",
   "metadata": {},
   "source": [
    "# Here I make prediction>= 0.5 to be one and <0.5 to be 0\n",
    "    "
   ]
  },
  {
   "cell_type": "code",
   "execution_count": 107,
   "metadata": {},
   "outputs": [
    {
     "name": "stdout",
     "output_type": "stream",
     "text": [
      "35 success\n",
      "15 failure\n"
     ]
    }
   ],
   "source": [
    "count = 0\n",
    "success = 0\n",
    "failure = 0\n",
    "for item in preds2:\n",
    "    if item[0][1][1]>=0.5:\n",
    "        if count< 25:\n",
    "            item[0][1][1] = 1\n",
    "            success+=1\n",
    "            \n",
    "        else:\n",
    "            item[0][1][1] = 1\n",
    "            failure +=1\n",
    "        \n",
    "    elif item[0][1][1]<0.5:\n",
    "        if count>=25:\n",
    "            item[0][1][1] = 0\n",
    "            success += 1\n",
    "        else:\n",
    "            item[0][1][1] = 0\n",
    "            failure +=1\n",
    "    else:\n",
    "        print(\"nan\")\n",
    "    count+=1\n",
    "print(success, \"success\")\n",
    "print(failure, \"failure\")"
   ]
  },
  {
   "cell_type": "markdown",
   "metadata": {},
   "source": [
    "# can you use preds2 and the images to draw bounding box? But also make sure that you take into account that the x,y are w.r.t each grid and w,h are with respect to the the image."
   ]
  },
  {
   "cell_type": "markdown",
   "metadata": {},
   "source": []
  },
  {
   "cell_type": "markdown",
   "metadata": {},
   "source": [
    "\n",
    "# CRAP BELOW\n"
   ]
  },
  {
   "cell_type": "code",
   "execution_count": 118,
   "metadata": {},
   "outputs": [],
   "source": [
    "preds.shape\n",
    "new = preds\n",
    "new =new.detach().numpy()\n"
   ]
  },
  {
   "cell_type": "code",
   "execution_count": 120,
   "metadata": {},
   "outputs": [],
   "source": [
    "new = new.reshape(new.shape[0],)"
   ]
  },
  {
   "cell_type": "code",
   "execution_count": 121,
   "metadata": {},
   "outputs": [
    {
     "data": {
      "text/plain": [
       "array([0.01135982, 0.87692744, 0.6167153 , 0.5396809 , 0.01177701,\n",
       "       0.01216818, 0.1118563 , 0.87692744, 0.755402  , 0.87692744,\n",
       "       0.03742406, 0.87692744, 0.66704714, 0.87692744, 0.7314897 ,\n",
       "       0.0214721 , 0.87692744, 0.87692744, 0.87692744, 0.5817198 ,\n",
       "       0.87692744, 0.87692744, 0.43635008, 0.03580783, 0.87692744,\n",
       "       0.87692744, 0.80255103, 0.87692744, 0.87692744, 0.01138497,\n",
       "       0.01135982, 0.02130419, 0.0114847 , 0.87692744, 0.87692744,\n",
       "       0.01241615, 0.87692744, 0.01145151, 0.87692744, 0.01138929,\n",
       "       0.01158636, 0.01149289, 0.87692744, 0.06400666, 0.02028817,\n",
       "       0.2257802 , 0.87692744, 0.87692744, 0.87692744, 0.04292852],\n",
       "      dtype=float32)"
      ]
     },
     "execution_count": 121,
     "metadata": {},
     "output_type": "execute_result"
    }
   ],
   "source": [
    "new"
   ]
  },
  {
   "cell_type": "code",
   "execution_count": 122,
   "metadata": {},
   "outputs": [
    {
     "data": {
      "text/plain": [
       "tensor([ 1.,  1.,  1.,  1.,  1.,  1.,  1.,  1.,  1.,  1.,  1.,  1.,\n",
       "         1.,  1.,  1.,  1.,  1.,  1.,  1.,  1.,  1.,  1.,  1.,  1.,\n",
       "         1.,  0.,  0.,  0.,  0.,  0.,  0.,  0.,  0.,  0.,  0.,  0.,\n",
       "         0.,  0.,  0.,  0.,  0.,  0.,  0.,  0.,  0.,  0.,  0.,  0.,\n",
       "         0.,  0.])"
      ]
     },
     "execution_count": 122,
     "metadata": {},
     "output_type": "execute_result"
    }
   ],
   "source": [
    "Yn = Y.reshape(Y.shape[0],)\n",
    "Yn"
   ]
  },
  {
   "cell_type": "code",
   "execution_count": 124,
   "metadata": {},
   "outputs": [
    {
     "data": {
      "text/plain": [
       "(50,)"
      ]
     },
     "execution_count": 124,
     "metadata": {},
     "output_type": "execute_result"
    }
   ],
   "source": [
    "Yn = Yn.detach().numpy()\n",
    "Yn.shape\n"
   ]
  },
  {
   "cell_type": "code",
   "execution_count": 127,
   "metadata": {},
   "outputs": [
    {
     "data": {
      "text/plain": [
       "50"
      ]
     },
     "execution_count": 127,
     "metadata": {},
     "output_type": "execute_result"
    }
   ],
   "source": [
    "Yn.shape[0]"
   ]
  },
  {
   "cell_type": "code",
   "execution_count": 135,
   "metadata": {},
   "outputs": [
    {
     "name": "stdout",
     "output_type": "stream",
     "text": [
      "30 20\n"
     ]
    }
   ],
   "source": [
    "count = 0\n",
    "w = 0\n",
    "for i in range(Yn.shape[0]):\n",
    "    if new[i]>0.5:\n",
    "        if Yn[i] ==1:\n",
    "            count +=1\n",
    "        else:\n",
    "            w+=1\n",
    "    else:\n",
    "        if Yn[i] ==1:\n",
    "            w+=1\n",
    "        else:\n",
    "            count+=1\n",
    "print(count, w)\n",
    "            "
   ]
  },
  {
   "cell_type": "code",
   "execution_count": 359,
   "metadata": {},
   "outputs": [
    {
     "data": {
      "text/plain": [
       "<matplotlib.image.AxesImage at 0x1a16f67b00>"
      ]
     },
     "execution_count": 359,
     "metadata": {},
     "output_type": "execute_result"
    },
    {
     "data": {
      "image/png": "[encoded data removed]",
      "text/plain": [
       "<matplotlib.figure.Figure at 0x1a172840f0>"
      ]
     },
     "metadata": {},
     "output_type": "display_data"
    }
   ],
   "source": [
    "plt.imshow(X[4].astype('uint8'))"
   ]
  },
  {
   "cell_type": "code",
   "execution_count": 106,
   "metadata": {},
   "outputs": [],
   "source": [
    "# l = 0.\n",
    "# l = l + (output[0][:5,1,1] - Y_train[0][:5,1,1]).sum()**2\n",
    "# l"
   ]
  },
  {
   "cell_type": "code",
   "execution_count": 105,
   "metadata": {},
   "outputs": [],
   "source": [
    "# l = 0.\n",
    "# l = l + (output[0][0,1,1] - Y_train[0][0,1,1])**2\n",
    "# l"
   ]
  },
  {
   "cell_type": "code",
   "execution_count": 104,
   "metadata": {},
   "outputs": [],
   "source": [
    "# loss_fn = nn.MSELoss().type(dtype)\n",
    "# print(output[0][:][0][0])\n",
    "# print(Y_train[0][:][0][0])\n",
    "# print(Y_train[0][0])\n",
    "# print(Y_train[0][:5,1,1])\n",
    "# print(output[0][:5,1,1])\n",
    "# loss_fn(output[0][:5,1,1], Y_train[0][:5,1,1])"
   ]
  },
  {
   "cell_type": "code",
   "execution_count": 102,
   "metadata": {},
   "outputs": [],
   "source": [
    "# (output[0][:5,1,1] - Y_train[0][:5,1,1])"
   ]
  },
  {
   "cell_type": "code",
   "execution_count": 103,
   "metadata": {},
   "outputs": [],
   "source": [
    "# ((output[0][:5,1,1] - Y_train[0][:5,1,1])**2).sum()"
   ]
  },
  {
   "cell_type": "code",
   "execution_count": null,
   "metadata": {},
   "outputs": [],
   "source": []
  },
  {
   "cell_type": "code",
   "execution_count": 127,
   "metadata": {},
   "outputs": [],
   "source": [
    "#train(X_train, Y, fixed_model, loss_fn, optimizer, num_epochs=10)"
   ]
  },
  {
   "cell_type": "code",
   "execution_count": null,
   "metadata": {},
   "outputs": [],
   "source": []
  },
  {
   "cell_type": "code",
   "execution_count": 126,
   "metadata": {},
   "outputs": [],
   "source": [
    "#train(fixed_model, loss_fn, optimizer)"
   ]
  },
  {
   "cell_type": "code",
   "execution_count": 30,
   "metadata": {},
   "outputs": [],
   "source": [
    "x = open('C:/Users/zarin\\Desktop/b/c/d.txt')"
   ]
  },
  {
   "cell_type": "code",
   "execution_count": 31,
   "metadata": {},
   "outputs": [
    {
     "name": "stdout",
     "output_type": "stream",
     "text": [
      "asdcaFC\n"
     ]
    }
   ],
   "source": [
    "# for i in x:\n",
    "#     print(i)"
   ]
  },
  {
   "cell_type": "code",
   "execution_count": null,
   "metadata": {},
   "outputs": [],
   "source": []
  },
  {
   "cell_type": "code",
   "execution_count": null,
   "metadata": {},
   "outputs": [],
   "source": []
  },
  {
   "cell_type": "code",
   "execution_count": null,
   "metadata": {
    "collapsed": true
   },
   "outputs": [],
   "source": []
  }
 ],
 "metadata": {
  "kernelspec": {
   "display_name": "Python 3",
   "language": "python",
   "name": "python3"
  },
  "language_info": {
   "codemirror_mode": {
    "name": "ipython",
    "version": 3
   },
   "file_extension": ".py",
   "mimetype": "text/x-python",
   "name": "python",
   "nbconvert_exporter": "python",
   "pygments_lexer": "ipython3",
   "version": "3.6.4"
  }
 },
 "nbformat": 4,
 "nbformat_minor": 2
}
