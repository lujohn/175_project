{
 "cells": [
  {
   "cell_type": "code",
   "execution_count": 1,
   "metadata": {},
   "outputs": [],
   "source": [
    "import imageio\n",
    "import numpy as np\n",
    "from new_functions import *\n",
    "from PIL import Image\n",
    "\n",
    "from matplotlib import pyplot as plt\n",
    "\n",
    "%load_ext autoreload\n",
    "%autoreload 2\n",
    "% matplotlib inline"
   ]
  },
  {
   "cell_type": "code",
   "execution_count": 2,
   "metadata": {
    "scrolled": true
   },
   "outputs": [],
   "source": [
    "# Read Some Images\n",
    "X, Y, Joints, Hand_Info = read_img_data2(50)"
   ]
  },
  {
   "cell_type": "code",
   "execution_count": 53,
   "metadata": {},
   "outputs": [
    {
     "data": {
      "text/plain": [
       "<matplotlib.image.AxesImage at 0x21e001a3048>"
      ]
     },
     "execution_count": 53,
     "metadata": {},
     "output_type": "execute_result"
    },
    {
     "data": {
      "image/png": "[encoded data removed]",
      "text/plain": [
       "<matplotlib.figure.Figure at 0x21e001b76d8>"
      ]
     },
     "metadata": {},
     "output_type": "display_data"
    }
   ],
   "source": [
    "# Display an image\n",
    "plt.imshow(X[9].astype(np.uint8))"
   ]
  },
  {
   "cell_type": "code",
   "execution_count": 54,
   "metadata": {},
   "outputs": [
    {
     "name": "stdout",
     "output_type": "stream",
     "text": [
      "[1. 1. 1. 1. 1. 1. 1. 1. 1. 1.]\n",
      "[0. 0. 0. 0. 0. 0. 0. 0. 1. 1.]\n"
     ]
    }
   ],
   "source": [
    "# Print some Y's and J's. J = 0 means left hand, J = 1 means right hand.\n",
    "# Y = 1 means hand is present in the image.\n",
    "print(Y[:10])\n",
    "print(Hand_Info[:10])"
   ]
  },
  {
   "cell_type": "code",
   "execution_count": 55,
   "metadata": {},
   "outputs": [
    {
     "data": {
      "text/plain": [
       "(100, 100, 3)"
      ]
     },
     "execution_count": 55,
     "metadata": {},
     "output_type": "execute_result"
    }
   ],
   "source": [
    "X[4].shape"
   ]
  },
  {
   "cell_type": "code",
   "execution_count": 3,
   "metadata": {},
   "outputs": [],
   "source": [
    "labels = gen_labels2(Y, Joints)"
   ]
  },
  {
   "cell_type": "code",
   "execution_count": 86,
   "metadata": {},
   "outputs": [
    {
     "data": {
      "text/plain": [
       "array([[1, 1, 0]], dtype=int64)"
      ]
     },
     "execution_count": 86,
     "metadata": {},
     "output_type": "execute_result"
    }
   ],
   "source": [
    "np.argwhere(labels[4] == 1)\n"
   ]
  },
  {
   "cell_type": "code",
   "execution_count": 92,
   "metadata": {},
   "outputs": [],
   "source": [
    "_, cx, cy, h, w = labels[4][1][1]\n"
   ]
  },
  {
   "cell_type": "code",
   "execution_count": 123,
   "metadata": {},
   "outputs": [
    {
     "name": "stdout",
     "output_type": "stream",
     "text": [
      "0.5594229166666665 0.4293481481481481 0.05566249999999995 0.12019259259259257\n"
     ]
    }
   ],
   "source": [
    "# convert cx, cy back to consider the full image  #Need grid position! 1 -> x_grid = 1, same for y\n",
    "cx = (1+cx)/3\n",
    "cy = (1+cy)/3\n",
    "print(cx, cy, h , w)"
   ]
  },
  {
   "cell_type": "code",
   "execution_count": 122,
   "metadata": {},
   "outputs": [
    {
     "name": "stdout",
     "output_type": "stream",
     "text": [
      "0.6782687499999998 0.2880444444444443 0.05566249999999995 0.12019259259259257\n"
     ]
    }
   ],
   "source": [
    "_, cx, cy, h, w = labels[1][1][1]\n",
    "print(cx, cy, h , w)"
   ]
  },
  {
   "cell_type": "code",
   "execution_count": 129,
   "metadata": {},
   "outputs": [],
   "source": [
    "#Joints[4]"
   ]
  },
  {
   "cell_type": "markdown",
   "metadata": {},
   "source": [
    "# PyTorch    (YOLO?)"
   ]
  },
  {
   "cell_type": "code",
   "execution_count": 2,
   "metadata": {},
   "outputs": [],
   "source": [
    "import torch\n",
    "import torch.nn as nn\n",
    "import torch.optim as optim\n",
    "from torch.autograd import Variable\n",
    "from torch.utils.data import DataLoader\n",
    "from torch.utils.data import sampler\n",
    "\n",
    "import torchvision.datasets as dset\n",
    "import torchvision.transforms as T\n",
    "\n",
    "import numpy as np\n",
    "\n",
    "import timeit"
   ]
  },
  {
   "cell_type": "code",
   "execution_count": 3,
   "metadata": {},
   "outputs": [],
   "source": [
    "dtype = torch.FloatTensor # the CPU datatype\n",
    "\n",
    "# Constant to control how frequently we print train loss\n",
    "print_every = 100\n",
    "\n",
    "# This is a little utility that we'll use to reset the model\n",
    "# if we want to re-initialize all our parameters\n",
    "def reset(m):\n",
    "    if hasattr(m, 'reset_parameters'):\n",
    "        m.reset_parameters()"
   ]
  },
  {
   "cell_type": "code",
   "execution_count": 98,
   "metadata": {},
   "outputs": [],
   "source": [
    "X, Y, Joints, Hand_Info = read_img_data2(10)"
   ]
  },
  {
   "cell_type": "code",
   "execution_count": null,
   "metadata": {},
   "outputs": [],
   "source": []
  },
  {
   "cell_type": "code",
   "execution_count": 99,
   "metadata": {},
   "outputs": [
    {
     "name": "stdout",
     "output_type": "stream",
     "text": [
      "Y_rolled shape:  (10, 5, 3, 3)\n",
      "X_rolled shape:  (10, 3, 100, 100)\n"
     ]
    }
   ],
   "source": [
    "Y_train = gen_labels2(Y, Joints, grid_size=3)\n",
    "Y_rolled = np.rollaxis(Y_train, 3, 1)\n",
    "print('Y_rolled shape: ', Y_rolled.shape)\n",
    "X_rolled = to_channels_first2(X)\n",
    "# Y_rolled = to_channels_first(Y_train)\n",
    "print('X_rolled shape: ', X_rolled.shape)\n",
    "# print('Y_rolled shape: ', Y_rolled.shape)"
   ]
  },
  {
   "cell_type": "code",
   "execution_count": 100,
   "metadata": {},
   "outputs": [
    {
     "name": "stdout",
     "output_type": "stream",
     "text": [
      "torch.Size([10, 3, 100, 100])\n",
      "torch.Size([10, 5, 3, 3])\n"
     ]
    }
   ],
   "source": [
    "Y_train = torch.from_numpy(Y_rolled)\n",
    "Y_train = Y_train.type(dtype)\n",
    "X_train = torch.from_numpy(X_rolled).type(dtype)\n",
    "print(X_train.size())\n",
    "print(Y_train.size())"
   ]
  },
  {
   "cell_type": "code",
   "execution_count": 70,
   "metadata": {},
   "outputs": [],
   "source": [
    "#Y = Y.reshape(Y.shape[0], 1,1,1)"
   ]
  },
  {
   "cell_type": "code",
   "execution_count": 71,
   "metadata": {},
   "outputs": [
    {
     "data": {
      "text/plain": [
       "torch.Size([5, 5, 3, 3])"
      ]
     },
     "execution_count": 71,
     "metadata": {},
     "output_type": "execute_result"
    }
   ],
   "source": [
    "Y_train.shape"
   ]
  },
  {
   "cell_type": "code",
   "execution_count": 72,
   "metadata": {},
   "outputs": [],
   "source": [
    "# Y = torch.from_numpy(Y)\n",
    "# Y=Y.type(dtype)\n",
    "# Y.type"
   ]
  },
  {
   "cell_type": "code",
   "execution_count": 73,
   "metadata": {},
   "outputs": [],
   "source": [
    "# print(Y_train[:,:])\n",
    "# plt.imshow(X[10])"
   ]
  },
  {
   "cell_type": "code",
   "execution_count": 122,
   "metadata": {},
   "outputs": [],
   "source": [
    "def train(X, Y, model, loss_fn, optimizer, batch_size=10, num_epochs=1):\n",
    "    for epoch in range(num_epochs):\n",
    "        print('Starting epoch %d / %d' % (epoch + 1, num_epochs))\n",
    "#         model.train()\n",
    "        # X_batch, Y_batch = ...\n",
    "        x_var = Variable(X.type(dtype))\n",
    "        y_var = Variable(Y.type(dtype))\n",
    "\n",
    "        scores = model(x_var)\n",
    "\n",
    "        loss = loss_fn(scores, y_var)\n",
    "#         if (t + 1) % print_every == 0:\n",
    "#             print('t = %d, loss = %.4f' % (t + 1, loss.data[0]))\n",
    "\n",
    "        optimizer.zero_grad()\n",
    "        loss.backward()\n",
    "        optimizer.step()\n",
    "        print('loss: ', loss)"
   ]
  },
  {
   "cell_type": "code",
   "execution_count": 110,
   "metadata": {},
   "outputs": [],
   "source": [
    "fixed_model_base = nn.Sequential(\n",
    "        nn.Conv2d(3, 64, kernel_size=5, stride=1),\n",
    "        nn.ReLU(inplace=True),\n",
    "        nn.MaxPool2d(kernel_size=2, stride=2),\n",
    "        \n",
    "        nn.Conv2d(64, 64, kernel_size=5, stride=1),\n",
    "        nn.ReLU(inplace=True),\n",
    "        nn.MaxPool2d(kernel_size=2, stride=2),\n",
    "    \n",
    "        nn.Conv2d(64, 64, kernel_size=3, stride=1),\n",
    "        nn.ReLU(inplace=True),\n",
    "        nn.MaxPool2d(kernel_size=2, stride=2),\n",
    "        nn.Dropout2d(),\n",
    "        nn.Conv2d(64, 32, kernel_size=3, stride=1),\n",
    "        #nn.BatchNorm2d(32),\n",
    "        nn.ReLU(inplace=True),\n",
    "        nn.MaxPool2d(kernel_size=2, stride=2),\n",
    "        nn.Dropout2d(),\n",
    "        nn.Conv2d(32, 5, kernel_size=2, stride=1),\n",
    "        nn.ReLU(inplace=True),\n",
    "        nn.Dropout2d(),\n",
    "#         nn.Conv2d(16, 7, kernel_size=3, stride=1),\n",
    "#         nn.ReLU(inplace=True),\n",
    "        #nn.LogSigmoid(),\n",
    "        #nn.Linear(1,1)\n",
    "        nn.Softmax()\n",
    "    )\n",
    "\n",
    "fixed_model = fixed_model_base.type(dtype)\n",
    "\n",
    "# def conditional_loss():\n",
    "# #     return nn.MSELoss().type(dtype)\n",
    "#     def loss(Output, Y):\n",
    "#         N = Y.shape[0]\n",
    "#         grid_size = Y.shape[2]\n",
    "#         loss = 0.\n",
    "#         for out, y in (zip(Output, Y)):\n",
    "#             for i in range(grid_size):\n",
    "#                 for j in range(grid_size):\n",
    "#                     if abs(y[0,i,j] - 1) < 0.01:\n",
    "#                         # loss = loss + nn.CrossEntropyLoss()((out[0,i,j],2), y[0,i,j])\n",
    "#                         loss = loss + ((out[:5,i,j] - y[:5,i,j])**2).sum()\n",
    "#                     else:\n",
    "#                         loss = loss + (out[0,i,j] - y[0,i,j])**2  # loss computed on only p_c\n",
    "#         return loss / N\n",
    "    \n",
    "#     return loss\n",
    "\n",
    "#loss_fn = conditional_loss()\n"
   ]
  },
  {
   "cell_type": "code",
   "execution_count": 104,
   "metadata": {},
   "outputs": [],
   "source": [
    "import math"
   ]
  },
  {
   "cell_type": "code",
   "execution_count": 76,
   "metadata": {},
   "outputs": [
    {
     "data": {
      "text/plain": [
       "5.0"
      ]
     },
     "execution_count": 76,
     "metadata": {},
     "output_type": "execute_result"
    }
   ],
   "source": [
    "math.sqrt(25)"
   ]
  },
  {
   "cell_type": "code",
   "execution_count": 116,
   "metadata": {},
   "outputs": [],
   "source": [
    "def yolo_loss(Output, Y_train):\n",
    "    sum1 = 0\n",
    "    count = 0\n",
    "    for out , label in (zip(Output, Y_train)):\n",
    "        for i in range(3):\n",
    "            for j in range(3):\n",
    "                c_hat = iou([Y_train[count][1][i][j] - (Y_train[count][3][i][j])/2, Y_train[count][2][i][j] + (Y_train[count][4][i][j]/2),Y_train[count][1][i][j] + (Y_train[count][3][i][j])/2, Y_train[count][2][i][j] - (Y_train[count][4][i][j]/2)],\n",
    "                              [Output[count][1][i][j] - (Output[count][3][i][j])/2, Output[count][2][i][j] + (Output[count][4][i][j]/2),Output[count][1][i][j] + (Output[count][3][i][j])/2, Output[count][2][i][j] - (Output[count][4][i][j]/2)] )\n",
    "                #print(c_hat)\n",
    "                if Y_train[count][0][i][j] == 1:\n",
    "                    sum1 += 1 * ((Y_train[count][1][i][j]- Output[count][1][i][j])**2 + (Y_train[count][2][i][j]- Output[count][2][i][j])**2)\n",
    "                    sum1 += 1 * ((math.sqrt(Y_train[count][3][i][j])- math.sqrt(Output[count][3][i][j]))**2 + (math.sqrt(Y_train[count][4][i][j])- math.sqrt(Output[count][4][i][j]))**2)\n",
    "                    #sum1 += 5 * ((math.sqrt(Y_train[count][3][i][j])- math.sqrt(Output[count][3][i][j]))**2 + (math.sqrt(Y_train[count][4][i][j])- math.sqrt(Output[count][4][i][j]))**2)\n",
    "                    sum1 += (Y_train[count][0][i][j] -c_hat)**2\n",
    "                    sum1 += (Y_train[count][0][i][j] - Output[count][0][i][j])**2\n",
    "                    \n",
    "                else:\n",
    "                    sum1 += 0.5*(Y_train[count][0][i][j] -c_hat)**2\n",
    "        count +=1\n",
    "    return sum1\n",
    "\n",
    "        \n",
    "    "
   ]
  },
  {
   "cell_type": "code",
   "execution_count": 121,
   "metadata": {},
   "outputs": [
    {
     "name": "stderr",
     "output_type": "stream",
     "text": [
      "C:\\Users\\zarin\\Anaconda3\\lib\\site-packages\\torch\\nn\\modules\\container.py:91: UserWarning: Implicit dimension choice for softmax has been deprecated. Change the call to include dim=X as an argument.\n",
      "  input = module(input)\n"
     ]
    },
    {
     "name": "stdout",
     "output_type": "stream",
     "text": [
      "loss : 14.828473091125488\n",
      "loss : 9.779740333557129\n",
      "loss : 14.149649620056152\n",
      "loss : 10.276118278503418\n",
      "loss : 10.470381736755371\n",
      "loss : 14.917530059814453\n",
      "loss : 10.984037399291992\n",
      "loss : 9.889779090881348\n",
      "loss : 11.17957592010498\n",
      "loss : 10.277547836303711\n",
      "loss : 11.782621383666992\n",
      "loss : 10.38658332824707\n",
      "loss : 11.390266418457031\n",
      "loss : 10.731635093688965\n",
      "loss : 10.998208045959473\n",
      "loss : 10.95337963104248\n",
      "loss : 9.735220909118652\n",
      "loss : 9.889779090881348\n",
      "loss : 11.602925300598145\n",
      "loss : 10.197389602661133\n",
      "loss : 9.889779090881348\n",
      "loss : 10.1956148147583\n",
      "loss : 9.889779090881348\n",
      "loss : 9.895752906799316\n",
      "loss : 10.899325370788574\n",
      "loss : 9.506752967834473\n",
      "loss : 10.561976432800293\n",
      "loss : 10.533440589904785\n",
      "loss : 9.889779090881348\n",
      "loss : 13.676725387573242\n",
      "loss : 9.889779090881348\n",
      "loss : 9.889779090881348\n",
      "loss : 9.889779090881348\n",
      "loss : 10.495622634887695\n",
      "loss : 13.640118598937988\n",
      "loss : 9.889779090881348\n",
      "loss : 10.94743824005127\n",
      "loss : 9.889779090881348\n",
      "loss : 11.227762222290039\n",
      "loss : 10.949630737304688\n",
      "loss : 13.196294784545898\n",
      "loss : 10.283903121948242\n",
      "loss : 11.0714750289917\n",
      "loss : 10.733478546142578\n",
      "loss : 10.320328712463379\n",
      "loss : 9.889779090881348\n",
      "loss : 10.283552169799805\n",
      "loss : 14.10853385925293\n",
      "loss : 11.02761173248291\n",
      "loss : 10.324164390563965\n"
     ]
    }
   ],
   "source": [
    "#loss_fn = yolo_loss().type(dtype)\n",
    "loss_fn = nn.MSELoss().type(dtype)\n",
    "#loss_fn = nn.L1Loss().type(dtype)\n",
    "optimizer = optim.RMSprop(fixed_model.parameters(), lr= 1e-4)\n",
    "#loss_fn = nn.CrossEntropyLoss().type(dtype)\n",
    "## Now we're going to feed a random batch into the model you defined and make sure the output is the right size\n",
    "def init_weights(m):\n",
    "    if type(m) == nn.Linear:\n",
    "        torch.nn.init.xavier_uniform(m.weight)\n",
    "        m.bias.data.fill_(0.01)\n",
    "\n",
    "fixed_model.apply(init_weights)\n",
    "# in your training loop:\n",
    "it = 50\n",
    "optimizer.zero_grad()   # zero the gradient buffers\n",
    "fixed_model.train()\n",
    "c = 0.0002\n",
    "#Y_train_ = Y_train.type(torch.LongTensor)\n",
    "for iter in range(it):\n",
    "    output = fixed_model(X_train)\n",
    "    loss = yolo_loss(output, Y_train)\n",
    "    #loss = loss_fn(output, Y_train)\n",
    "    optimizer.zero_grad()\n",
    "    loss.backward()\n",
    "#     for param_group in optimizer.param_groups:\n",
    "#         param_group['lr'] -=c\n",
    "    optimizer.step()    # Does the update\n",
    "    \n",
    "    print('loss :' , loss.item())"
   ]
  },
  {
   "cell_type": "code",
   "execution_count": 118,
   "metadata": {},
   "outputs": [
    {
     "name": "stderr",
     "output_type": "stream",
     "text": [
      "C:\\Users\\zarin\\Anaconda3\\lib\\site-packages\\torch\\nn\\modules\\container.py:91: UserWarning: Implicit dimension choice for softmax has been deprecated. Change the call to include dim=X as an argument.\n",
      "  input = module(input)\n"
     ]
    }
   ],
   "source": [
    "preds = fixed_model(X_train)"
   ]
  },
  {
   "cell_type": "code",
   "execution_count": 114,
   "metadata": {},
   "outputs": [
    {
     "data": {
      "text/plain": [
       "tensor([[[[ 7.8925e-04,  5.1939e-03,  6.0076e-02],\n",
       "          [ 3.3005e-02,  7.3526e-04,  6.1069e-03],\n",
       "          [ 4.5494e-04,  1.2319e-01,  2.2813e-03]],\n",
       "\n",
       "         [[ 7.8925e-04,  5.1939e-03,  6.0076e-02],\n",
       "          [ 3.3005e-02,  7.3526e-04,  6.1069e-03],\n",
       "          [ 4.5494e-04,  1.2319e-01,  2.2813e-03]],\n",
       "\n",
       "         [[ 7.8925e-04,  5.1939e-03,  6.0076e-02],\n",
       "          [ 3.3005e-02,  7.3526e-04,  6.1069e-03],\n",
       "          [ 4.5494e-04,  1.2319e-01,  2.2813e-03]],\n",
       "\n",
       "         [[ 7.8925e-04,  5.1939e-03,  6.0076e-02],\n",
       "          [ 3.3005e-02,  7.3526e-04,  6.1069e-03],\n",
       "          [ 4.5494e-04,  1.2319e-01,  2.2813e-03]],\n",
       "\n",
       "         [[ 9.9684e-01,  9.7922e-01,  7.5970e-01],\n",
       "          [ 8.6798e-01,  9.9706e-01,  9.7557e-01],\n",
       "          [ 9.9818e-01,  5.0725e-01,  9.9087e-01]]],\n",
       "\n",
       "\n",
       "        [[[ 5.1145e-02,  4.0637e-03,  7.8376e-03],\n",
       "          [ 2.0000e-01,  1.4324e-01,  1.0155e-01],\n",
       "          [ 2.0000e-01,  3.1682e-03,  2.0000e-01]],\n",
       "\n",
       "         [[ 5.1145e-02,  4.0637e-03,  7.8376e-03],\n",
       "          [ 2.0000e-01,  1.4324e-01,  1.0155e-01],\n",
       "          [ 2.0000e-01,  3.1682e-03,  2.0000e-01]],\n",
       "\n",
       "         [[ 5.1145e-02,  4.0637e-03,  7.8376e-03],\n",
       "          [ 2.0000e-01,  1.4324e-01,  1.0155e-01],\n",
       "          [ 2.0000e-01,  3.1682e-03,  2.0000e-01]],\n",
       "\n",
       "         [[ 5.1145e-02,  4.0637e-03,  7.8376e-03],\n",
       "          [ 2.0000e-01,  1.4324e-01,  1.0155e-01],\n",
       "          [ 2.0000e-01,  3.1682e-03,  2.0000e-01]],\n",
       "\n",
       "         [[ 7.9542e-01,  9.8374e-01,  9.6865e-01],\n",
       "          [ 2.0000e-01,  4.2706e-01,  5.9379e-01],\n",
       "          [ 2.0000e-01,  9.8733e-01,  2.0000e-01]]],\n",
       "\n",
       "\n",
       "        [[[ 2.4098e-04,  5.1190e-04,  1.0044e-04],\n",
       "          [ 1.8537e-04,  1.7576e-03,  1.6932e-06],\n",
       "          [ 8.7595e-05,  2.1232e-06,  4.7532e-05]],\n",
       "\n",
       "         [[ 9.9904e-01,  9.9795e-01,  9.9960e-01],\n",
       "          [ 9.9926e-01,  9.9297e-01,  9.9999e-01],\n",
       "          [ 9.9965e-01,  9.9999e-01,  9.9981e-01]],\n",
       "\n",
       "         [[ 2.4098e-04,  5.1190e-04,  1.0044e-04],\n",
       "          [ 1.8537e-04,  1.7576e-03,  1.6932e-06],\n",
       "          [ 8.7595e-05,  2.1232e-06,  4.7532e-05]],\n",
       "\n",
       "         [[ 2.4098e-04,  5.1190e-04,  1.0044e-04],\n",
       "          [ 1.8537e-04,  1.7576e-03,  1.6932e-06],\n",
       "          [ 8.7595e-05,  2.1232e-06,  4.7532e-05]],\n",
       "\n",
       "         [[ 2.4098e-04,  5.1190e-04,  1.0044e-04],\n",
       "          [ 1.8537e-04,  1.7576e-03,  1.6932e-06],\n",
       "          [ 8.7595e-05,  2.1232e-06,  4.7532e-05]]],\n",
       "\n",
       "\n",
       "        [[[ 2.0000e-01,  1.9972e-01,  1.3862e-01],\n",
       "          [ 2.0000e-01,  2.0000e-01,  3.9240e-02],\n",
       "          [ 4.8115e-02,  4.6725e-02,  5.9078e-02]],\n",
       "\n",
       "         [[ 2.0000e-01,  2.0110e-01,  4.4550e-01],\n",
       "          [ 2.0000e-01,  2.0000e-01,  8.4304e-01],\n",
       "          [ 8.0754e-01,  8.1310e-01,  7.6369e-01]],\n",
       "\n",
       "         [[ 2.0000e-01,  1.9972e-01,  1.3862e-01],\n",
       "          [ 2.0000e-01,  2.0000e-01,  3.9240e-02],\n",
       "          [ 4.8115e-02,  4.6725e-02,  5.9078e-02]],\n",
       "\n",
       "         [[ 2.0000e-01,  1.9972e-01,  1.3862e-01],\n",
       "          [ 2.0000e-01,  2.0000e-01,  3.9240e-02],\n",
       "          [ 4.8115e-02,  4.6725e-02,  5.9078e-02]],\n",
       "\n",
       "         [[ 2.0000e-01,  1.9972e-01,  1.3862e-01],\n",
       "          [ 2.0000e-01,  2.0000e-01,  3.9240e-02],\n",
       "          [ 4.8115e-02,  4.6725e-02,  5.9078e-02]]],\n",
       "\n",
       "\n",
       "        [[[ 2.0000e-01,  2.0000e-01,  2.0000e-01],\n",
       "          [ 2.0000e-01,  2.0000e-01,  2.0000e-01],\n",
       "          [ 2.0000e-01,  2.0000e-01,  2.0000e-01]],\n",
       "\n",
       "         [[ 2.0000e-01,  2.0000e-01,  2.0000e-01],\n",
       "          [ 2.0000e-01,  2.0000e-01,  2.0000e-01],\n",
       "          [ 2.0000e-01,  2.0000e-01,  2.0000e-01]],\n",
       "\n",
       "         [[ 2.0000e-01,  2.0000e-01,  2.0000e-01],\n",
       "          [ 2.0000e-01,  2.0000e-01,  2.0000e-01],\n",
       "          [ 2.0000e-01,  2.0000e-01,  2.0000e-01]],\n",
       "\n",
       "         [[ 2.0000e-01,  2.0000e-01,  2.0000e-01],\n",
       "          [ 2.0000e-01,  2.0000e-01,  2.0000e-01],\n",
       "          [ 2.0000e-01,  2.0000e-01,  2.0000e-01]],\n",
       "\n",
       "         [[ 2.0000e-01,  2.0000e-01,  2.0000e-01],\n",
       "          [ 2.0000e-01,  2.0000e-01,  2.0000e-01],\n",
       "          [ 2.0000e-01,  2.0000e-01,  2.0000e-01]]],\n",
       "\n",
       "\n",
       "        [[[ 2.3469e-04,  7.8839e-05,  4.4867e-04],\n",
       "          [ 2.2463e-05,  2.6095e-04,  3.2197e-06],\n",
       "          [ 3.3294e-03,  1.4222e-02,  2.7701e-04]],\n",
       "\n",
       "         [[ 9.9977e-01,  9.9992e-01,  9.9955e-01],\n",
       "          [ 9.9998e-01,  9.9974e-01,  1.0000e+00],\n",
       "          [ 9.9667e-01,  9.8578e-01,  9.9972e-01]],\n",
       "\n",
       "         [[ 1.6494e-12,  3.3000e-14,  2.2556e-13],\n",
       "          [ 3.5827e-13,  6.2880e-13,  8.7876e-14],\n",
       "          [ 1.4149e-10,  1.8534e-08,  1.9153e-08]],\n",
       "\n",
       "         [[ 1.6494e-12,  3.3000e-14,  2.2556e-13],\n",
       "          [ 3.5827e-13,  6.2880e-13,  8.7876e-14],\n",
       "          [ 1.4149e-10,  1.8534e-08,  1.9153e-08]],\n",
       "\n",
       "         [[ 1.6494e-12,  3.3000e-14,  2.2556e-13],\n",
       "          [ 3.5827e-13,  6.2880e-13,  8.7876e-14],\n",
       "          [ 1.4149e-10,  9.4011e-08,  1.9153e-08]]],\n",
       "\n",
       "\n",
       "        [[[ 1.7765e-06,  8.3892e-05,  1.7184e-04],\n",
       "          [ 8.6842e-04,  4.8816e-03,  2.9494e-03],\n",
       "          [ 2.1275e-02,  2.0000e-01,  2.0000e-01]],\n",
       "\n",
       "         [[ 9.9999e-01,  9.9966e-01,  9.9931e-01],\n",
       "          [ 9.9653e-01,  9.8047e-01,  9.8820e-01],\n",
       "          [ 9.1490e-01,  2.0000e-01,  2.0000e-01]],\n",
       "\n",
       "         [[ 1.7765e-06,  8.3892e-05,  1.7184e-04],\n",
       "          [ 8.6842e-04,  4.8816e-03,  2.9494e-03],\n",
       "          [ 2.1275e-02,  2.0000e-01,  2.0000e-01]],\n",
       "\n",
       "         [[ 1.7765e-06,  8.3892e-05,  1.7184e-04],\n",
       "          [ 8.6842e-04,  4.8816e-03,  2.9494e-03],\n",
       "          [ 2.1275e-02,  2.0000e-01,  2.0000e-01]],\n",
       "\n",
       "         [[ 1.7765e-06,  8.3892e-05,  1.7184e-04],\n",
       "          [ 8.6842e-04,  4.8816e-03,  2.9494e-03],\n",
       "          [ 2.1275e-02,  2.0000e-01,  2.0000e-01]]],\n",
       "\n",
       "\n",
       "        [[[ 1.7872e-07,  1.0817e-06,  8.0248e-06],\n",
       "          [ 4.9114e-08,  1.8997e-07,  5.8504e-06],\n",
       "          [ 1.3779e-07,  8.6496e-08,  3.0331e-07]],\n",
       "\n",
       "         [[ 9.9995e-01,  9.9984e-01,  9.9955e-01],\n",
       "          [ 9.9999e-01,  9.9990e-01,  9.9946e-01],\n",
       "          [ 9.9996e-01,  9.9998e-01,  9.9996e-01]],\n",
       "\n",
       "         [[ 5.1917e-05,  1.2003e-04,  4.0338e-04],\n",
       "          [ 9.4976e-06,  1.0235e-04,  4.8411e-04],\n",
       "          [ 4.0715e-05,  2.1956e-05,  3.6876e-05]],\n",
       "\n",
       "         [[ 1.7872e-07,  1.0817e-06,  8.0248e-06],\n",
       "          [ 4.9114e-08,  1.8997e-07,  5.8504e-06],\n",
       "          [ 1.3779e-07,  8.6496e-08,  3.0331e-07]],\n",
       "\n",
       "         [[ 7.9986e-07,  3.7503e-05,  3.3846e-05],\n",
       "          [ 4.9114e-08,  2.0783e-06,  4.1255e-05],\n",
       "          [ 1.4800e-07,  8.6496e-08,  7.6908e-07]]],\n",
       "\n",
       "\n",
       "        [[[ 2.0000e-01,  2.0000e-01,  2.0000e-01],\n",
       "          [ 2.0000e-01,  2.0000e-01,  2.0000e-01],\n",
       "          [ 2.0000e-01,  2.0000e-01,  2.0000e-01]],\n",
       "\n",
       "         [[ 2.0000e-01,  2.0000e-01,  2.0000e-01],\n",
       "          [ 2.0000e-01,  2.0000e-01,  2.0000e-01],\n",
       "          [ 2.0000e-01,  2.0000e-01,  2.0000e-01]],\n",
       "\n",
       "         [[ 2.0000e-01,  2.0000e-01,  2.0000e-01],\n",
       "          [ 2.0000e-01,  2.0000e-01,  2.0000e-01],\n",
       "          [ 2.0000e-01,  2.0000e-01,  2.0000e-01]],\n",
       "\n",
       "         [[ 2.0000e-01,  2.0000e-01,  2.0000e-01],\n",
       "          [ 2.0000e-01,  2.0000e-01,  2.0000e-01],\n",
       "          [ 2.0000e-01,  2.0000e-01,  2.0000e-01]],\n",
       "\n",
       "         [[ 2.0000e-01,  2.0000e-01,  2.0000e-01],\n",
       "          [ 2.0000e-01,  2.0000e-01,  2.0000e-01],\n",
       "          [ 2.0000e-01,  2.0000e-01,  2.0000e-01]]],\n",
       "\n",
       "\n",
       "        [[[ 2.0000e-01,  2.0000e-01,  2.0000e-01],\n",
       "          [ 2.0000e-01,  2.0000e-01,  2.0000e-01],\n",
       "          [ 2.0000e-01,  2.0000e-01,  2.0000e-01]],\n",
       "\n",
       "         [[ 2.0000e-01,  2.0000e-01,  2.0000e-01],\n",
       "          [ 2.0000e-01,  2.0000e-01,  2.0000e-01],\n",
       "          [ 2.0000e-01,  2.0000e-01,  2.0000e-01]],\n",
       "\n",
       "         [[ 2.0000e-01,  2.0000e-01,  2.0000e-01],\n",
       "          [ 2.0000e-01,  2.0000e-01,  2.0000e-01],\n",
       "          [ 2.0000e-01,  2.0000e-01,  2.0000e-01]],\n",
       "\n",
       "         [[ 2.0000e-01,  2.0000e-01,  2.0000e-01],\n",
       "          [ 2.0000e-01,  2.0000e-01,  2.0000e-01],\n",
       "          [ 2.0000e-01,  2.0000e-01,  2.0000e-01]],\n",
       "\n",
       "         [[ 2.0000e-01,  2.0000e-01,  2.0000e-01],\n",
       "          [ 2.0000e-01,  2.0000e-01,  2.0000e-01],\n",
       "          [ 2.0000e-01,  2.0000e-01,  2.0000e-01]]]])"
      ]
     },
     "execution_count": 114,
     "metadata": {},
     "output_type": "execute_result"
    }
   ],
   "source": [
    "preds"
   ]
  },
  {
   "cell_type": "code",
   "execution_count": 120,
   "metadata": {},
   "outputs": [
    {
     "data": {
      "text/plain": [
       "tensor([[[[ 0.0000,  0.0000,  0.0000],\n",
       "          [ 0.0000,  1.0000,  0.0000],\n",
       "          [ 0.0000,  0.0000,  0.0000]],\n",
       "\n",
       "         [[ 0.0000,  0.0000,  0.0000],\n",
       "          [ 0.0000,  0.6867,  0.0000],\n",
       "          [ 0.0000,  0.0000,  0.0000]],\n",
       "\n",
       "         [[ 0.0000,  0.0000,  0.0000],\n",
       "          [ 0.0000,  0.2806,  0.0000],\n",
       "          [ 0.0000,  0.0000,  0.0000]],\n",
       "\n",
       "         [[ 0.0000,  0.0000,  0.0000],\n",
       "          [ 0.0000,  0.0651,  0.0000],\n",
       "          [ 0.0000,  0.0000,  0.0000]],\n",
       "\n",
       "         [[ 0.0000,  0.0000,  0.0000],\n",
       "          [ 0.0000,  0.1222,  0.0000],\n",
       "          [ 0.0000,  0.0000,  0.0000]]],\n",
       "\n",
       "\n",
       "        [[[ 0.0000,  0.0000,  0.0000],\n",
       "          [ 0.0000,  1.0000,  0.0000],\n",
       "          [ 0.0000,  0.0000,  0.0000]],\n",
       "\n",
       "         [[ 0.0000,  0.0000,  0.0000],\n",
       "          [ 0.0000,  0.6783,  0.0000],\n",
       "          [ 0.0000,  0.0000,  0.0000]],\n",
       "\n",
       "         [[ 0.0000,  0.0000,  0.0000],\n",
       "          [ 0.0000,  0.2880,  0.0000],\n",
       "          [ 0.0000,  0.0000,  0.0000]],\n",
       "\n",
       "         [[ 0.0000,  0.0000,  0.0000],\n",
       "          [ 0.0000,  0.0557,  0.0000],\n",
       "          [ 0.0000,  0.0000,  0.0000]],\n",
       "\n",
       "         [[ 0.0000,  0.0000,  0.0000],\n",
       "          [ 0.0000,  0.1202,  0.0000],\n",
       "          [ 0.0000,  0.0000,  0.0000]]],\n",
       "\n",
       "\n",
       "        [[[ 0.0000,  0.0000,  0.0000],\n",
       "          [ 0.0000,  1.0000,  0.0000],\n",
       "          [ 0.0000,  0.0000,  0.0000]],\n",
       "\n",
       "         [[ 0.0000,  0.0000,  0.0000],\n",
       "          [ 0.0000,  0.7467,  0.0000],\n",
       "          [ 0.0000,  0.0000,  0.0000]],\n",
       "\n",
       "         [[ 0.0000,  0.0000,  0.0000],\n",
       "          [ 0.0000,  0.2936,  0.0000],\n",
       "          [ 0.0000,  0.0000,  0.0000]],\n",
       "\n",
       "         [[ 0.0000,  0.0000,  0.0000],\n",
       "          [ 0.0000,  0.0150,  0.0000],\n",
       "          [ 0.0000,  0.0000,  0.0000]],\n",
       "\n",
       "         [[ 0.0000,  0.0000,  0.0000],\n",
       "          [ 0.0000,  0.1248,  0.0000],\n",
       "          [ 0.0000,  0.0000,  0.0000]]],\n",
       "\n",
       "\n",
       "        [[[ 0.0000,  0.0000,  0.0000],\n",
       "          [ 0.0000,  1.0000,  0.0000],\n",
       "          [ 0.0000,  0.0000,  0.0000]],\n",
       "\n",
       "         [[ 0.0000,  0.0000,  0.0000],\n",
       "          [ 0.0000,  0.6799,  0.0000],\n",
       "          [ 0.0000,  0.0000,  0.0000]],\n",
       "\n",
       "         [[ 0.0000,  0.0000,  0.0000],\n",
       "          [ 0.0000,  0.3268,  0.0000],\n",
       "          [ 0.0000,  0.0000,  0.0000]],\n",
       "\n",
       "         [[ 0.0000,  0.0000,  0.0000],\n",
       "          [ 0.0000,  0.0484,  0.0000],\n",
       "          [ 0.0000,  0.0000,  0.0000]],\n",
       "\n",
       "         [[ 0.0000,  0.0000,  0.0000],\n",
       "          [ 0.0000,  0.0942,  0.0000],\n",
       "          [ 0.0000,  0.0000,  0.0000]]],\n",
       "\n",
       "\n",
       "        [[[ 0.0000,  0.0000,  0.0000],\n",
       "          [ 0.0000,  1.0000,  0.0000],\n",
       "          [ 0.0000,  0.0000,  0.0000]],\n",
       "\n",
       "         [[ 0.0000,  0.0000,  0.0000],\n",
       "          [ 0.0000,  0.6950,  0.0000],\n",
       "          [ 0.0000,  0.0000,  0.0000]],\n",
       "\n",
       "         [[ 0.0000,  0.0000,  0.0000],\n",
       "          [ 0.0000,  0.3590,  0.0000],\n",
       "          [ 0.0000,  0.0000,  0.0000]],\n",
       "\n",
       "         [[ 0.0000,  0.0000,  0.0000],\n",
       "          [ 0.0000,  0.0352,  0.0000],\n",
       "          [ 0.0000,  0.0000,  0.0000]],\n",
       "\n",
       "         [[ 0.0000,  0.0000,  0.0000],\n",
       "          [ 0.0000,  0.0727,  0.0000],\n",
       "          [ 0.0000,  0.0000,  0.0000]]],\n",
       "\n",
       "\n",
       "        [[[ 0.0000,  0.0000,  0.0000],\n",
       "          [ 0.0000,  0.0000,  0.0000],\n",
       "          [ 0.0000,  0.0000,  0.0000]],\n",
       "\n",
       "         [[ 0.0000,  0.0000,  0.0000],\n",
       "          [ 0.0000,  0.0000,  0.0000],\n",
       "          [ 0.0000,  0.0000,  0.0000]],\n",
       "\n",
       "         [[ 0.0000,  0.0000,  0.0000],\n",
       "          [ 0.0000,  0.0000,  0.0000],\n",
       "          [ 0.0000,  0.0000,  0.0000]],\n",
       "\n",
       "         [[ 0.0000,  0.0000,  0.0000],\n",
       "          [ 0.0000,  0.0000,  0.0000],\n",
       "          [ 0.0000,  0.0000,  0.0000]],\n",
       "\n",
       "         [[ 0.0000,  0.0000,  0.0000],\n",
       "          [ 0.0000,  0.0000,  0.0000],\n",
       "          [ 0.0000,  0.0000,  0.0000]]],\n",
       "\n",
       "\n",
       "        [[[ 0.0000,  0.0000,  0.0000],\n",
       "          [ 0.0000,  0.0000,  0.0000],\n",
       "          [ 0.0000,  0.0000,  0.0000]],\n",
       "\n",
       "         [[ 0.0000,  0.0000,  0.0000],\n",
       "          [ 0.0000,  0.0000,  0.0000],\n",
       "          [ 0.0000,  0.0000,  0.0000]],\n",
       "\n",
       "         [[ 0.0000,  0.0000,  0.0000],\n",
       "          [ 0.0000,  0.0000,  0.0000],\n",
       "          [ 0.0000,  0.0000,  0.0000]],\n",
       "\n",
       "         [[ 0.0000,  0.0000,  0.0000],\n",
       "          [ 0.0000,  0.0000,  0.0000],\n",
       "          [ 0.0000,  0.0000,  0.0000]],\n",
       "\n",
       "         [[ 0.0000,  0.0000,  0.0000],\n",
       "          [ 0.0000,  0.0000,  0.0000],\n",
       "          [ 0.0000,  0.0000,  0.0000]]],\n",
       "\n",
       "\n",
       "        [[[ 0.0000,  0.0000,  0.0000],\n",
       "          [ 0.0000,  0.0000,  0.0000],\n",
       "          [ 0.0000,  0.0000,  0.0000]],\n",
       "\n",
       "         [[ 0.0000,  0.0000,  0.0000],\n",
       "          [ 0.0000,  0.0000,  0.0000],\n",
       "          [ 0.0000,  0.0000,  0.0000]],\n",
       "\n",
       "         [[ 0.0000,  0.0000,  0.0000],\n",
       "          [ 0.0000,  0.0000,  0.0000],\n",
       "          [ 0.0000,  0.0000,  0.0000]],\n",
       "\n",
       "         [[ 0.0000,  0.0000,  0.0000],\n",
       "          [ 0.0000,  0.0000,  0.0000],\n",
       "          [ 0.0000,  0.0000,  0.0000]],\n",
       "\n",
       "         [[ 0.0000,  0.0000,  0.0000],\n",
       "          [ 0.0000,  0.0000,  0.0000],\n",
       "          [ 0.0000,  0.0000,  0.0000]]],\n",
       "\n",
       "\n",
       "        [[[ 0.0000,  0.0000,  0.0000],\n",
       "          [ 0.0000,  0.0000,  0.0000],\n",
       "          [ 0.0000,  0.0000,  0.0000]],\n",
       "\n",
       "         [[ 0.0000,  0.0000,  0.0000],\n",
       "          [ 0.0000,  0.0000,  0.0000],\n",
       "          [ 0.0000,  0.0000,  0.0000]],\n",
       "\n",
       "         [[ 0.0000,  0.0000,  0.0000],\n",
       "          [ 0.0000,  0.0000,  0.0000],\n",
       "          [ 0.0000,  0.0000,  0.0000]],\n",
       "\n",
       "         [[ 0.0000,  0.0000,  0.0000],\n",
       "          [ 0.0000,  0.0000,  0.0000],\n",
       "          [ 0.0000,  0.0000,  0.0000]],\n",
       "\n",
       "         [[ 0.0000,  0.0000,  0.0000],\n",
       "          [ 0.0000,  0.0000,  0.0000],\n",
       "          [ 0.0000,  0.0000,  0.0000]]],\n",
       "\n",
       "\n",
       "        [[[ 0.0000,  0.0000,  0.0000],\n",
       "          [ 0.0000,  0.0000,  0.0000],\n",
       "          [ 0.0000,  0.0000,  0.0000]],\n",
       "\n",
       "         [[ 0.0000,  0.0000,  0.0000],\n",
       "          [ 0.0000,  0.0000,  0.0000],\n",
       "          [ 0.0000,  0.0000,  0.0000]],\n",
       "\n",
       "         [[ 0.0000,  0.0000,  0.0000],\n",
       "          [ 0.0000,  0.0000,  0.0000],\n",
       "          [ 0.0000,  0.0000,  0.0000]],\n",
       "\n",
       "         [[ 0.0000,  0.0000,  0.0000],\n",
       "          [ 0.0000,  0.0000,  0.0000],\n",
       "          [ 0.0000,  0.0000,  0.0000]],\n",
       "\n",
       "         [[ 0.0000,  0.0000,  0.0000],\n",
       "          [ 0.0000,  0.0000,  0.0000],\n",
       "          [ 0.0000,  0.0000,  0.0000]]]])"
      ]
     },
     "execution_count": 120,
     "metadata": {},
     "output_type": "execute_result"
    }
   ],
   "source": [
    "Y_train"
   ]
  },
  {
   "cell_type": "markdown",
   "metadata": {},
   "source": [
    "# Need to use this output to calculate confidence and then make everything else zero except the grid with max confidence"
   ]
  },
  {
   "cell_type": "code",
   "execution_count": 128,
   "metadata": {},
   "outputs": [],
   "source": [
    "\n",
    "#CRAP BELOW\n"
   ]
  },
  {
   "cell_type": "code",
   "execution_count": 118,
   "metadata": {},
   "outputs": [],
   "source": [
    "preds.shape\n",
    "new = preds\n",
    "new =new.detach().numpy()\n"
   ]
  },
  {
   "cell_type": "code",
   "execution_count": 120,
   "metadata": {},
   "outputs": [],
   "source": [
    "new = new.reshape(new.shape[0],)"
   ]
  },
  {
   "cell_type": "code",
   "execution_count": 121,
   "metadata": {},
   "outputs": [
    {
     "data": {
      "text/plain": [
       "array([0.01135982, 0.87692744, 0.6167153 , 0.5396809 , 0.01177701,\n",
       "       0.01216818, 0.1118563 , 0.87692744, 0.755402  , 0.87692744,\n",
       "       0.03742406, 0.87692744, 0.66704714, 0.87692744, 0.7314897 ,\n",
       "       0.0214721 , 0.87692744, 0.87692744, 0.87692744, 0.5817198 ,\n",
       "       0.87692744, 0.87692744, 0.43635008, 0.03580783, 0.87692744,\n",
       "       0.87692744, 0.80255103, 0.87692744, 0.87692744, 0.01138497,\n",
       "       0.01135982, 0.02130419, 0.0114847 , 0.87692744, 0.87692744,\n",
       "       0.01241615, 0.87692744, 0.01145151, 0.87692744, 0.01138929,\n",
       "       0.01158636, 0.01149289, 0.87692744, 0.06400666, 0.02028817,\n",
       "       0.2257802 , 0.87692744, 0.87692744, 0.87692744, 0.04292852],\n",
       "      dtype=float32)"
      ]
     },
     "execution_count": 121,
     "metadata": {},
     "output_type": "execute_result"
    }
   ],
   "source": [
    "new"
   ]
  },
  {
   "cell_type": "code",
   "execution_count": 122,
   "metadata": {},
   "outputs": [
    {
     "data": {
      "text/plain": [
       "tensor([ 1.,  1.,  1.,  1.,  1.,  1.,  1.,  1.,  1.,  1.,  1.,  1.,\n",
       "         1.,  1.,  1.,  1.,  1.,  1.,  1.,  1.,  1.,  1.,  1.,  1.,\n",
       "         1.,  0.,  0.,  0.,  0.,  0.,  0.,  0.,  0.,  0.,  0.,  0.,\n",
       "         0.,  0.,  0.,  0.,  0.,  0.,  0.,  0.,  0.,  0.,  0.,  0.,\n",
       "         0.,  0.])"
      ]
     },
     "execution_count": 122,
     "metadata": {},
     "output_type": "execute_result"
    }
   ],
   "source": [
    "Yn = Y.reshape(Y.shape[0],)\n",
    "Yn"
   ]
  },
  {
   "cell_type": "code",
   "execution_count": 124,
   "metadata": {},
   "outputs": [
    {
     "data": {
      "text/plain": [
       "(50,)"
      ]
     },
     "execution_count": 124,
     "metadata": {},
     "output_type": "execute_result"
    }
   ],
   "source": [
    "Yn = Yn.detach().numpy()\n",
    "Yn.shape\n"
   ]
  },
  {
   "cell_type": "code",
   "execution_count": 127,
   "metadata": {},
   "outputs": [
    {
     "data": {
      "text/plain": [
       "50"
      ]
     },
     "execution_count": 127,
     "metadata": {},
     "output_type": "execute_result"
    }
   ],
   "source": [
    "Yn.shape[0]"
   ]
  },
  {
   "cell_type": "code",
   "execution_count": 135,
   "metadata": {},
   "outputs": [
    {
     "name": "stdout",
     "output_type": "stream",
     "text": [
      "30 20\n"
     ]
    }
   ],
   "source": [
    "count = 0\n",
    "w = 0\n",
    "for i in range(Yn.shape[0]):\n",
    "    if new[i]>0.5:\n",
    "        if Yn[i] ==1:\n",
    "            count +=1\n",
    "        else:\n",
    "            w+=1\n",
    "    else:\n",
    "        if Yn[i] ==1:\n",
    "            w+=1\n",
    "        else:\n",
    "            count+=1\n",
    "print(count, w)\n",
    "            "
   ]
  },
  {
   "cell_type": "code",
   "execution_count": 359,
   "metadata": {},
   "outputs": [
    {
     "data": {
      "text/plain": [
       "<matplotlib.image.AxesImage at 0x1a16f67b00>"
      ]
     },
     "execution_count": 359,
     "metadata": {},
     "output_type": "execute_result"
    },
    {
     "data": {
      "image/png": "[encoded data removed]",
      "text/plain": [
       "<matplotlib.figure.Figure at 0x1a172840f0>"
      ]
     },
     "metadata": {},
     "output_type": "display_data"
    }
   ],
   "source": [
    "plt.imshow(X[4].astype('uint8'))"
   ]
  },
  {
   "cell_type": "code",
   "execution_count": 253,
   "metadata": {},
   "outputs": [
    {
     "data": {
      "text/plain": [
       "tensor(9.9404)"
      ]
     },
     "execution_count": 253,
     "metadata": {},
     "output_type": "execute_result"
    }
   ],
   "source": [
    "l = 0.\n",
    "l = l + (output[0][:5,1,1] - Y_train[0][:5,1,1]).sum()**2\n",
    "l"
   ]
  },
  {
   "cell_type": "code",
   "execution_count": 255,
   "metadata": {},
   "outputs": [
    {
     "data": {
      "text/plain": [
       "tensor(1.)"
      ]
     },
     "execution_count": 255,
     "metadata": {},
     "output_type": "execute_result"
    }
   ],
   "source": [
    "l = 0.\n",
    "l = l + (output[0][0,1,1] - Y_train[0][0,1,1])**2\n",
    "l"
   ]
  },
  {
   "cell_type": "code",
   "execution_count": 273,
   "metadata": {},
   "outputs": [
    {
     "name": "stdout",
     "output_type": "stream",
     "text": [
      "tensor([ 0.,  0.,  0.])\n",
      "tensor([ 0.,  0.,  0.])\n",
      "tensor([[ 0.,  0.,  0.],\n",
      "        [ 0.,  1.,  0.],\n",
      "        [ 0.,  0.,  0.]])\n",
      "tensor([ 1.0000,  0.5622,  0.4269,  0.1222,  0.0651])\n",
      "tensor([ 0.,  0.,  0.,  0.,  0.])\n"
     ]
    },
    {
     "data": {
      "text/plain": [
       "tensor(0.3035)"
      ]
     },
     "execution_count": 273,
     "metadata": {},
     "output_type": "execute_result"
    }
   ],
   "source": [
    "loss_fn = nn.MSELoss().type(dtype)\n",
    "print(output[0][:][0][0])\n",
    "print(Y_train[0][:][0][0])\n",
    "print(Y_train[0][0])\n",
    "print(Y_train[0][:5,1,1])\n",
    "print(output[0][:5,1,1])\n",
    "loss_fn(output[0][:5,1,1], Y_train[0][:5,1,1])"
   ]
  },
  {
   "cell_type": "code",
   "execution_count": 242,
   "metadata": {},
   "outputs": [
    {
     "data": {
      "text/plain": [
       "tensor([-1.0000, -0.5622, -0.4269, -0.1222, -0.0651])"
      ]
     },
     "execution_count": 242,
     "metadata": {},
     "output_type": "execute_result"
    }
   ],
   "source": [
    "(output[0][:5,1,1] - Y_train[0][:5,1,1])"
   ]
  },
  {
   "cell_type": "code",
   "execution_count": 274,
   "metadata": {},
   "outputs": [
    {
     "data": {
      "text/plain": [
       "tensor(1.5175)"
      ]
     },
     "execution_count": 274,
     "metadata": {},
     "output_type": "execute_result"
    }
   ],
   "source": [
    "((output[0][:5,1,1] - Y_train[0][:5,1,1])**2).sum()"
   ]
  },
  {
   "cell_type": "code",
   "execution_count": null,
   "metadata": {},
   "outputs": [],
   "source": []
  },
  {
   "cell_type": "code",
   "execution_count": 127,
   "metadata": {},
   "outputs": [],
   "source": [
    "#train(X_train, Y, fixed_model, loss_fn, optimizer, num_epochs=10)"
   ]
  },
  {
   "cell_type": "code",
   "execution_count": null,
   "metadata": {},
   "outputs": [],
   "source": []
  },
  {
   "cell_type": "code",
   "execution_count": 126,
   "metadata": {},
   "outputs": [],
   "source": [
    "#train(fixed_model, loss_fn, optimizer)"
   ]
  },
  {
   "cell_type": "code",
   "execution_count": null,
   "metadata": {},
   "outputs": [],
   "source": []
  },
  {
   "cell_type": "code",
   "execution_count": null,
   "metadata": {},
   "outputs": [],
   "source": []
  },
  {
   "cell_type": "code",
   "execution_count": null,
   "metadata": {},
   "outputs": [],
   "source": []
  },
  {
   "cell_type": "code",
   "execution_count": null,
   "metadata": {},
   "outputs": [],
   "source": []
  },
  {
   "cell_type": "code",
   "execution_count": null,
   "metadata": {
    "collapsed": true
   },
   "outputs": [],
   "source": []
  }
 ],
 "metadata": {
  "kernelspec": {
   "display_name": "Python 3",
   "language": "python",
   "name": "python3"
  },
  "language_info": {
   "codemirror_mode": {
    "name": "ipython",
    "version": 3
   },
   "file_extension": ".py",
   "mimetype": "text/x-python",
   "name": "python",
   "nbconvert_exporter": "python",
   "pygments_lexer": "ipython3",
   "version": "3.6.4"
  }
 },
 "nbformat": 4,
 "nbformat_minor": 2
}
