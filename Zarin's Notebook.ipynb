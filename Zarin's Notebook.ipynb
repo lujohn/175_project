{
 "cells": [
  {
   "cell_type": "code",
   "execution_count": 4,
   "metadata": {},
   "outputs": [],
   "source": [
    "from functions import *\n",
    "import numpy as np\n",
    "\n"
   ]
  },
  {
   "cell_type": "code",
   "execution_count": 2,
   "metadata": {},
   "outputs": [],
   "source": [
    "gen_negative_images()"
   ]
  },
  {
   "cell_type": "code",
   "execution_count": 3,
   "metadata": {},
   "outputs": [
    {
     "name": "stdout",
     "output_type": "stream",
     "text": [
      "000_1001\n",
      "000_1007\n",
      "000_101\n",
      "000_1013\n",
      "000_1019\n",
      "negative_images\\0.jpg\n",
      "negative_images\\1.jpg\n",
      "negative_images\\10.jpg\n",
      "negative_images\\100.jpg\n",
      "negative_images\\1000.jpg\n"
     ]
    }
   ],
   "source": [
    "X, Y, Joints, Hand_Info = read_img_data(10)"
   ]
  },
  {
   "cell_type": "code",
   "execution_count": 12,
   "metadata": {},
   "outputs": [],
   "source": [
    "from sklearn.model_selection import train_test_split\n",
    "\n",
    "def split(X, Y, N):\n",
    "    #N = Number of images in total\n",
    "    values = np.random.permutation(N)\n",
    "    new_x = X[values]\n",
    "    new_y = Y[values]\n",
    "    \n",
    "    x, X_test, y, Y_test =  train_test_split(new_x, new_y, test_size = .20, random_state = 42)\n",
    "    X_train, X_val, Y_train, Y_val = train_test_split(x, y, test_size = .20, random_state = 42)\n",
    "    \n",
    "    return X_train, X_test,X_val, Y_val, Y_train, Y_test\n"
   ]
  },
  {
   "cell_type": "code",
   "execution_count": 15,
   "metadata": {},
   "outputs": [],
   "source": [
    "X_train, X_test, X_val, Y_val, Y_train, Y_test = split(X, Y, 10)"
   ]
  },
  {
   "cell_type": "code",
   "execution_count": 14,
   "metadata": {},
   "outputs": [
    {
     "name": "stdout",
     "output_type": "stream",
     "text": [
      "(6, 100, 100, 3)\n",
      "(2, 100, 100, 3)\n",
      "(6,)\n",
      "(2,)\n"
     ]
    }
   ],
   "source": [
    "print(X_train.shape)\n",
    "print(X_test.shape)\n",
    "print(Y_train.shape)\n",
    "print(Y_test.shape)"
   ]
  },
  {
   "cell_type": "code",
   "execution_count": 16,
   "metadata": {},
   "outputs": [
    {
     "name": "stdout",
     "output_type": "stream",
     "text": [
      "(2,)\n",
      "(2, 100, 100, 3)\n"
     ]
    }
   ],
   "source": [
    "print(Y_val.shape)\n",
    "print(X_val.shape)"
   ]
  },
  {
   "cell_type": "code",
   "execution_count": 22,
   "metadata": {},
   "outputs": [],
   "source": [
    "X_train= np.rollaxis(X_train, 3, 1)  "
   ]
  },
  {
   "cell_type": "code",
   "execution_count": 23,
   "metadata": {},
   "outputs": [
    {
     "data": {
      "text/plain": [
       "(6, 3, 100, 100)"
      ]
     },
     "execution_count": 23,
     "metadata": {},
     "output_type": "execute_result"
    }
   ],
   "source": [
    "X_train.shape"
   ]
  },
  {
   "cell_type": "code",
   "execution_count": 24,
   "metadata": {},
   "outputs": [
    {
     "data": {
      "text/plain": [
       "array([[[[ 66.,  65.,  62., ..., 153., 152., 152.],\n",
       "         [ 60.,  58.,  56., ..., 150., 149., 148.],\n",
       "         [ 51.,  49.,  45., ..., 145., 144., 143.],\n",
       "         ...,\n",
       "         [194., 190., 185., ..., 124., 121., 119.],\n",
       "         [195., 191., 186., ..., 133., 130., 127.],\n",
       "         [196., 192., 187., ..., 140., 136., 133.]],\n",
       "\n",
       "        [[ 72.,  69.,  65., ..., 123., 122., 121.],\n",
       "         [ 66.,  63.,  59., ..., 120., 119., 118.],\n",
       "         [ 55.,  52.,  48., ..., 116., 115., 114.],\n",
       "         ...,\n",
       "         [150., 146., 142., ...,  88.,  85.,  83.],\n",
       "         [152., 148., 143., ...,  97.,  94.,  91.],\n",
       "         [153., 149., 144., ..., 103., 100.,  97.]],\n",
       "\n",
       "        [[ 81.,  79.,  75., ...,  95.,  94.,  93.],\n",
       "         [ 75.,  72.,  68., ...,  92.,  91.,  90.],\n",
       "         [ 64.,  60.,  56., ...,  87.,  87.,  86.],\n",
       "         ...,\n",
       "         [ 70.,  66.,  60., ...,  61.,  59.,  57.],\n",
       "         [ 73.,  69.,  63., ...,  71.,  68.,  65.],\n",
       "         [ 75.,  71.,  65., ...,  78.,  74.,  71.]]],\n",
       "\n",
       "\n",
       "       [[[176., 172., 168., ...,  84.,  83.,  82.],\n",
       "         [172., 169., 165., ...,  84.,  83.,  82.],\n",
       "         [166., 164., 161., ...,  84.,  83.,  82.],\n",
       "         ...,\n",
       "         [162., 161., 157., ..., 138., 138., 138.],\n",
       "         [160., 158., 155., ..., 133., 132., 131.],\n",
       "         [158., 156., 153., ..., 129., 128., 126.]],\n",
       "\n",
       "        [[176., 173., 168., ...,  82.,  81.,  80.],\n",
       "         [172., 169., 165., ...,  82.,  81.,  80.],\n",
       "         [166., 164., 161., ...,  81.,  81.,  80.],\n",
       "         ...,\n",
       "         [150., 148., 145., ..., 134., 134., 134.],\n",
       "         [147., 145., 142., ..., 129., 128., 127.],\n",
       "         [145., 143., 140., ..., 125., 124., 122.]],\n",
       "\n",
       "        [[188., 185., 180., ...,  67.,  66.,  65.],\n",
       "         [184., 181., 177., ...,  67.,  66.,  65.],\n",
       "         [178., 176., 173., ...,  66.,  66.,  65.],\n",
       "         ...,\n",
       "         [141., 139., 137., ..., 126., 126., 126.],\n",
       "         [137., 136., 134., ..., 120., 119., 118.],\n",
       "         [135., 134., 132., ..., 116., 114., 112.]]],\n",
       "\n",
       "\n",
       "       [[[136., 138., 141., ..., 148., 147., 146.],\n",
       "         [136., 137., 140., ..., 150., 148., 146.],\n",
       "         [135., 138., 141., ..., 150., 149., 147.],\n",
       "         ...,\n",
       "         [146., 146., 134., ...,  50.,  49.,  47.],\n",
       "         [146., 140., 129., ...,  67.,  68.,  70.],\n",
       "         [141., 136., 132., ..., 122., 124., 123.]],\n",
       "\n",
       "        [[139., 142., 146., ..., 160., 159., 158.],\n",
       "         [140., 142., 145., ..., 162., 160., 158.],\n",
       "         [140., 142., 145., ..., 162., 161., 160.],\n",
       "         ...,\n",
       "         [144., 143., 132., ...,  54.,  52.,  50.],\n",
       "         [144., 138., 130., ...,  72.,  73.,  75.],\n",
       "         [139., 135., 131., ..., 123., 125., 124.]],\n",
       "\n",
       "        [[124., 125., 129., ..., 140., 139., 138.],\n",
       "         [125., 126., 131., ..., 141., 140., 139.],\n",
       "         [124., 127., 131., ..., 142., 140., 140.],\n",
       "         ...,\n",
       "         [121., 115., 110., ...,  23.,  22.,  21.],\n",
       "         [122., 112., 107., ...,  43.,  44.,  45.],\n",
       "         [118., 108., 105., ...,  92.,  94.,  92.]]],\n",
       "\n",
       "\n",
       "       [[[135., 138., 141., ..., 148., 147., 146.],\n",
       "         [136., 137., 141., ..., 150., 148., 146.],\n",
       "         [135., 137., 140., ..., 150., 149., 147.],\n",
       "         ...,\n",
       "         [146., 146., 133., ...,  50.,  49.,  47.],\n",
       "         [146., 140., 129., ...,  67.,  67.,  69.],\n",
       "         [142., 136., 130., ..., 123., 123., 122.]],\n",
       "\n",
       "        [[139., 142., 145., ..., 160., 159., 158.],\n",
       "         [141., 142., 145., ..., 162., 160., 158.],\n",
       "         [140., 143., 145., ..., 162., 161., 159.],\n",
       "         ...,\n",
       "         [144., 143., 132., ...,  53.,  52.,  50.],\n",
       "         [145., 138., 130., ...,  72.,  73.,  75.],\n",
       "         [139., 134., 130., ..., 124., 126., 124.]],\n",
       "\n",
       "        [[122., 125., 129., ..., 140., 139., 138.],\n",
       "         [122., 126., 129., ..., 142., 140., 138.],\n",
       "         [124., 127., 131., ..., 142., 141., 139.],\n",
       "         ...,\n",
       "         [122., 117., 109., ...,  23.,  23.,  22.],\n",
       "         [122., 114., 104., ...,  43.,  43.,  45.],\n",
       "         [119., 109., 105., ...,  93.,  93.,  93.]]],\n",
       "\n",
       "\n",
       "       [[[241., 242., 242., ..., 250., 249., 249.],\n",
       "         [241., 241., 241., ..., 249., 248., 248.],\n",
       "         [240., 240., 240., ..., 248., 247., 247.],\n",
       "         ...,\n",
       "         [ 88.,  88.,  88., ..., 107., 107., 107.],\n",
       "         [ 85.,  85.,  85., ..., 111., 112., 112.],\n",
       "         [ 83.,  83.,  83., ..., 114., 115., 115.]],\n",
       "\n",
       "        [[241., 241., 242., ..., 242., 241., 241.],\n",
       "         [241., 241., 241., ..., 241., 240., 240.],\n",
       "         [241., 241., 240., ..., 239., 239., 239.],\n",
       "         ...,\n",
       "         [115., 115., 115., ..., 123., 123., 123.],\n",
       "         [112., 112., 112., ..., 127., 128., 128.],\n",
       "         [110., 110., 110., ..., 130., 131., 132.]],\n",
       "\n",
       "        [[249., 249., 250., ..., 255., 255., 255.],\n",
       "         [249., 249., 249., ..., 255., 255., 255.],\n",
       "         [249., 249., 248., ..., 254., 254., 254.],\n",
       "         ...,\n",
       "         [126., 126., 126., ..., 138., 138., 138.],\n",
       "         [123., 123., 123., ..., 142., 143., 143.],\n",
       "         [121., 121., 121., ..., 145., 146., 147.]]],\n",
       "\n",
       "\n",
       "       [[[215., 215., 215., ..., 144., 144., 144.],\n",
       "         [215., 215., 215., ..., 144., 144., 144.],\n",
       "         [215., 215., 215., ..., 144., 144., 144.],\n",
       "         ...,\n",
       "         [147., 147., 147., ..., 222., 224., 225.],\n",
       "         [148., 148., 148., ..., 221., 223., 224.],\n",
       "         [148., 149., 149., ..., 220., 222., 223.]],\n",
       "\n",
       "        [[227., 227., 227., ..., 175., 175., 175.],\n",
       "         [227., 227., 227., ..., 175., 175., 175.],\n",
       "         [227., 227., 227., ..., 175., 175., 175.],\n",
       "         ...,\n",
       "         [151., 151., 150., ..., 226., 227., 228.],\n",
       "         [151., 151., 151., ..., 224., 226., 227.],\n",
       "         [151., 151., 151., ..., 223., 225., 226.]],\n",
       "\n",
       "        [[241., 241., 242., ..., 204., 204., 204.],\n",
       "         [241., 241., 242., ..., 204., 204., 204.],\n",
       "         [241., 241., 242., ..., 204., 204., 204.],\n",
       "         ...,\n",
       "         [160., 160., 159., ..., 219., 220., 221.],\n",
       "         [160., 160., 160., ..., 217., 219., 220.],\n",
       "         [160., 160., 161., ..., 215., 218., 219.]]]])"
      ]
     },
     "execution_count": 24,
     "metadata": {},
     "output_type": "execute_result"
    }
   ],
   "source": [
    "X_train"
   ]
  },
  {
   "cell_type": "code",
   "execution_count": 25,
   "metadata": {},
   "outputs": [],
   "source": [
    "import imageio\n",
    "import numpy as np\n",
    "from functions import *\n",
    "from PIL import Image\n",
    "\n",
    "from matplotlib import pyplot as plt\n",
    "\n",
    "%load_ext autoreload\n",
    "%autoreload 2\n",
    "% matplotlib inline"
   ]
  },
  {
   "cell_type": "code",
   "execution_count": 43,
   "metadata": {},
   "outputs": [],
   "source": [
    "def unpickle(file):\n",
    "    import pickle\n",
    "    with open(file, 'rb') as fo:\n",
    "        dict = pickle.load(fo, encoding='bytes')\n",
    "    return dict\n",
    "\n",
    "def gen_negative_images():\n",
    "    cifar10_dict = unpickle('cifar-10-batches-py/data_batch_1')\n",
    "    cifar_imgs = cifar10_dict[b'data']\n",
    "    cifar_imgs = cifar_imgs.reshape(10000, 3, 32, 32).transpose(0,2,3,1).astype(\"uint8\")\n",
    "    for i,img in enumerate(cifar_imgs):\n",
    "        im = Image.fromarray(img)\n",
    "        im.save('negative_images/'+str(i)+'.jpg')"
   ]
  },
  {
   "cell_type": "code",
   "execution_count": 99,
   "metadata": {},
   "outputs": [
    {
     "name": "stdout",
     "output_type": "stream",
     "text": [
      "000_1001\n",
      "000_1007\n",
      "000_101\n",
      "000_1013\n",
      "000_1019\n",
      "negative_images\\0.jpg\n",
      "negative_images\\1.jpg\n",
      "negative_images\\10.jpg\n",
      "negative_images\\100.jpg\n",
      "negative_images\\1000.jpg\n"
     ]
    }
   ],
   "source": [
    "# Read Some Images\n",
    "X, Y, Joints, Hand_Info = read_img_data(10)"
   ]
  },
  {
   "cell_type": "code",
   "execution_count": 100,
   "metadata": {},
   "outputs": [
    {
     "data": {
      "text/plain": [
       "<matplotlib.image.AxesImage at 0x22cb3842588>"
      ]
     },
     "execution_count": 100,
     "metadata": {},
     "output_type": "execute_result"
    },
    {
     "data": {
      "image/png": "[encoded data removed]",
      "text/plain": [
       "<matplotlib.figure.Figure at 0x22ca0b8ee48>"
      ]
     },
     "metadata": {},
     "output_type": "display_data"
    }
   ],
   "source": [
    "# Display an image\n",
    "plt.imshow(X[1].astype(np.uint8))"
   ]
  },
  {
   "cell_type": "code",
   "execution_count": 101,
   "metadata": {},
   "outputs": [
    {
     "name": "stdout",
     "output_type": "stream",
     "text": [
      "[1. 1. 1. 1. 1. 1. 1. 1. 1. 1.]\n",
      "[0. 0. 0. 0. 0. 0. 0. 0. 0. 0.]\n"
     ]
    }
   ],
   "source": [
    "# Print some Y's and J's. J = 0 means left hand, J = 1 means right hand.\n",
    "# Y = 1 means hand is present in the image.\n",
    "print(Y[:10])\n",
    "print(Hand_Info[:10])"
   ]
  },
  {
   "cell_type": "code",
   "execution_count": 102,
   "metadata": {},
   "outputs": [],
   "source": [
    "labels = gen_labels(Y, Joints)"
   ]
  },
  {
   "cell_type": "code",
   "execution_count": 103,
   "metadata": {},
   "outputs": [
    {
     "data": {
      "text/plain": [
       "array([[[0.        , 0.        , 0.        , 0.        , 0.        ],\n",
       "        [0.        , 0.        , 0.        , 0.        , 0.        ],\n",
       "        [0.        , 0.        , 0.        , 0.        , 0.        ]],\n",
       "\n",
       "       [[0.        , 0.        , 0.        , 0.        , 0.        ],\n",
       "        [1.        , 0.55942292, 0.42934815, 0.12019259, 0.0556625 ],\n",
       "        [0.        , 0.        , 0.        , 0.        , 0.        ]],\n",
       "\n",
       "       [[0.        , 0.        , 0.        , 0.        , 0.        ],\n",
       "        [0.        , 0.        , 0.        , 0.        , 0.        ],\n",
       "        [0.        , 0.        , 0.        , 0.        , 0.        ]]])"
      ]
     },
     "execution_count": 103,
     "metadata": {},
     "output_type": "execute_result"
    }
   ],
   "source": [
    "labels[1]"
   ]
  },
  {
   "cell_type": "code",
   "execution_count": 104,
   "metadata": {},
   "outputs": [
    {
     "data": {
      "text/plain": [
       "array([[1, 1, 0]], dtype=int64)"
      ]
     },
     "execution_count": 104,
     "metadata": {},
     "output_type": "execute_result"
    }
   ],
   "source": [
    "np.argwhere(labels[1] == 1)"
   ]
  },
  {
   "cell_type": "code",
   "execution_count": 107,
   "metadata": {},
   "outputs": [
    {
     "name": "stdout",
     "output_type": "stream",
     "text": [
      "0.5594229166666667 0.42934814814814815 0.12019259259259257 0.05566249999999995\n"
     ]
    }
   ],
   "source": [
    "_, cx, cy, h, w = labels[1][1][1]\n",
    "print(cx,cy, h, w)"
   ]
  },
  {
   "cell_type": "code",
   "execution_count": 108,
   "metadata": {},
   "outputs": [],
   "source": [
    "ho = Hand_Info[1]\n",
    "hand = \"\"\n",
    "if ho == 0:\n",
    "    hand += \"Left Hand\""
   ]
  },
  {
   "cell_type": "code",
   "execution_count": 109,
   "metadata": {},
   "outputs": [
    {
     "data": {
      "image/png": "[encoded data removed]",
      "text/plain": [
       "<matplotlib.figure.Figure at 0x22cb3899fd0>"
      ]
     },
     "metadata": {},
     "output_type": "display_data"
    }
   ],
   "source": [
    "fig, ax = plt.subplots()\n",
    "plt.imshow(X[1].astype(np.uint8))\n",
    "plt.plot(cx*100, cy*100, color='g', marker='o', markersize='2')\n",
    "r = plt.Rectangle(((cx- w/2.)*100, (cy-h/2.)*100), w*100, h*100, edgecolor='r', facecolor='none')\n",
    "ax.add_artist(r)\n",
    "plt.figtext(0.05, 0.5, hand)\n",
    "plt.show()"
   ]
  },
  {
   "cell_type": "code",
   "execution_count": 52,
   "metadata": {},
   "outputs": [
    {
     "name": "stdout",
     "output_type": "stream",
     "text": [
      "Left Hand\n"
     ]
    }
   ],
   "source": []
  },
  {
   "cell_type": "code",
   "execution_count": null,
   "metadata": {},
   "outputs": [],
   "source": []
  },
  {
   "cell_type": "code",
   "execution_count": 38,
   "metadata": {},
   "outputs": [],
   "source": [
    "import pylab as p"
   ]
  },
  {
   "cell_type": "code",
   "execution_count": 41,
   "metadata": {},
   "outputs": [
    {
     "data": {
      "text/plain": [
       "<matplotlib.figure.Figure at 0x22c9a8773c8>"
      ]
     },
     "metadata": {},
     "output_type": "display_data"
    }
   ],
   "source": [
    "plt.figtext(0.05, 0.5, 'foo')\n",
    "plt.show()"
   ]
  },
  {
   "cell_type": "code",
   "execution_count": null,
   "metadata": {},
   "outputs": [],
   "source": []
  }
 ],
 "metadata": {
  "kernelspec": {
   "display_name": "Python 3",
   "language": "python",
   "name": "python3"
  },
  "language_info": {
   "codemirror_mode": {
    "name": "ipython",
    "version": 3
   },
   "file_extension": ".py",
   "mimetype": "text/x-python",
   "name": "python",
   "nbconvert_exporter": "python",
   "pygments_lexer": "ipython3",
   "version": "3.6.4"
  }
 },
 "nbformat": 4,
 "nbformat_minor": 2
}
